{
 "cells": [
  {
   "cell_type": "code",
   "execution_count": 33,
   "metadata": {},
   "outputs": [],
   "source": [
    "Query=\"What is MLflow\""
   ]
  },
  {
   "cell_type": "code",
   "execution_count": 34,
   "metadata": {},
   "outputs": [
    {
     "data": {
      "text/plain": [
       "True"
      ]
     },
     "execution_count": 34,
     "metadata": {},
     "output_type": "execute_result"
    }
   ],
   "source": [
    "from dotenv import load_dotenv\n",
    "\n",
    "load_dotenv()\n"
   ]
  },
  {
   "cell_type": "code",
   "execution_count": 35,
   "metadata": {},
   "outputs": [],
   "source": [
    "import os\n",
    "from langchain.text_splitter import RecursiveCharacterTextSplitter\n",
    "from langchain.document_loaders import PyPDFLoader\n",
    "\n",
    "def process_pdf_batch(pdf_file):\n",
    "    loader = PyPDFLoader(pdf_file)\n",
    "    pages = loader.load_and_split()\n",
    "    character_splitter = RecursiveCharacterTextSplitter(\n",
    "        chunk_size=1000,\n",
    "        chunk_overlap=0\n",
    "        )\n",
    "    pages = character_splitter.split_documents(pages)\n",
    "    return pages"
   ]
  },
  {
   "cell_type": "code",
   "execution_count": 36,
   "metadata": {},
   "outputs": [],
   "source": [
    "d=\"sample\"\n",
    "chunks=process_pdf_batch(fr\"data\\{d}.pdf\")"
   ]
  },
  {
   "cell_type": "code",
   "execution_count": 37,
   "metadata": {},
   "outputs": [],
   "source": [
    "from langchain_openai import OpenAIEmbeddings\n",
    "from langchain_community.vectorstores import Chroma\n",
    "vectorstore = Chroma.from_documents(documents=chunks, \n",
    "                                    embedding=OpenAIEmbeddings())\n",
    "retriever = vectorstore.as_retriever()"
   ]
  },
  {
   "cell_type": "code",
   "execution_count": 38,
   "metadata": {},
   "outputs": [
    {
     "data": {
      "text/plain": [
       "[Document(page_content='MLflow enables an everyday practitioner in one platform to manage the ML life cycle, \\nfrom iteration on model development up to deployment in a reliable and scalable \\nenvironment that is compatible with modern software system requirements.', metadata={'page': 20, 'source': 'data\\\\sample.pdf'}),\n",
       " Document(page_content='MLflow enables an everyday practitioner in one platform to manage the ML life cycle, \\nfrom iteration on model development up to deployment in a reliable and scalable \\nenvironment that is compatible with modern software system requirements.', metadata={'page': 20, 'source': 'data\\\\sample.pdf'}),\n",
       " Document(page_content=\"1\\nIntroducing MLflow\\nMLflow  is an open source platform for the machine learning (ML) life cycle, with a \\nfocus on reproducibility , training , and deployment . It is based on an open interface design \\nand is able to work with any language or platform, with clients in Python and Java, and \\nis accessible through a REST API. Scalability is also an important benefit that an ML \\ndeveloper can leverage with MLflow.\\nIn this chapter of the book, we will take a look at how MLflow works, with the help of \\nexamples and sample code. This will build the necessary foundation for the rest of the \\nbook in order to use the concept to engineer an end-to-end ML project.\\nSpecifically, we will look at the following sections in this chapter:\\n• What is MLflow?\\n• Getting started with MLflow\\n• Exploring MLflow modules\\nTechnical requirements\\nFor this chapter, you will need the following prerequisites:\\n• The latest version of Docker installed in your machine. In case you don't have the\", metadata={'page': 19, 'source': 'data\\\\sample.pdf'}),\n",
       " Document(page_content=\"1\\nIntroducing MLflow\\nMLflow  is an open source platform for the machine learning (ML) life cycle, with a \\nfocus on reproducibility , training , and deployment . It is based on an open interface design \\nand is able to work with any language or platform, with clients in Python and Java, and \\nis accessible through a REST API. Scalability is also an important benefit that an ML \\ndeveloper can leverage with MLflow.\\nIn this chapter of the book, we will take a look at how MLflow works, with the help of \\nexamples and sample code. This will build the necessary foundation for the rest of the \\nbook in order to use the concept to engineer an end-to-end ML project.\\nSpecifically, we will look at the following sections in this chapter:\\n• What is MLflow?\\n• Getting started with MLflow\\n• Exploring MLflow modules\\nTechnical requirements\\nFor this chapter, you will need the following prerequisites:\\n• The latest version of Docker installed in your machine. In case you don't have the\", metadata={'page': 19, 'source': 'data\\\\sample.pdf'})]"
      ]
     },
     "execution_count": 38,
     "metadata": {},
     "output_type": "execute_result"
    }
   ],
   "source": [
    "retriever.invoke(Query)"
   ]
  },
  {
   "cell_type": "code",
   "execution_count": 39,
   "metadata": {},
   "outputs": [],
   "source": [
    "from langchain.prompts import ChatPromptTemplate\n",
    "from langchain_core.output_parsers import StrOutputParser\n",
    "from langchain_openai import ChatOpenAI\n",
    "from langchain.load import dumps, loads\n",
    "\n",
    "def generate_queries():\n",
    "        \n",
    "    # Multi Query: Different Perspectives\n",
    "    template = \"\"\"You are an AI language model assistant. Your task is to generate Four \n",
    "    different versions of the given user question to retrieve relevant documents from a vector \n",
    "    database. By generating multiple perspectives on the user question, your goal is to help\n",
    "    the user overcome some of the limitations of the distance-based similarity search. \n",
    "    Provide these alternative questions separated by newlines. Original question: {question}\"\"\"\n",
    "    prompt_perspectives = ChatPromptTemplate.from_template(template)\n",
    "\n",
    "\n",
    "    generate_querie = (\n",
    "        prompt_perspectives \n",
    "        | ChatOpenAI(temperature=0) \n",
    "        | StrOutputParser() \n",
    "        | (lambda x: x.split(\"\\n\"))\n",
    "    )\n",
    "    return generate_querie \n",
    "\n",
    "\n",
    "def _get_docs(m):\n",
    "    docs=[]\n",
    "    docs.extend(m['original'])\n",
    "    for i in m['new']:\n",
    "        docs.extend(i)\n",
    "    return docs\n",
    "\n"
   ]
  },
  {
   "cell_type": "code",
   "execution_count": 40,
   "metadata": {},
   "outputs": [],
   "source": [
    "from langchain_core.runnables import RunnableParallel\n",
    "original_question= retriever\n",
    "retrieval_chain =  generate_queries() | retriever.map()\n",
    "map_chain = RunnableParallel(original=original_question,new=retrieval_chain) | _get_docs"
   ]
  },
  {
   "cell_type": "code",
   "execution_count": 41,
   "metadata": {},
   "outputs": [],
   "source": [
    "from chromadb.utils.embedding_functions import SentenceTransformerEmbeddingFunction\n",
    "embedding_function = SentenceTransformerEmbeddingFunction()"
   ]
  },
  {
   "cell_type": "code",
   "execution_count": 42,
   "metadata": {},
   "outputs": [],
   "source": [
    "import numpy as np\n",
    "import tqdm\n",
    "\n",
    "def project_embeddings(embeddings, umap_transform):\n",
    "    umap_embeddings = np.empty((len(embeddings),2))\n",
    "    for i, embedding in enumerate(tqdm(embeddings)): \n",
    "        umap_embeddings[i] = umap_transform.transform([embedding])\n",
    "    return umap_embeddings"
   ]
  },
  {
   "cell_type": "code",
   "execution_count": 43,
   "metadata": {},
   "outputs": [],
   "source": [
    "import chromadb\n",
    "\n",
    "from langchain.text_splitter import RecursiveCharacterTextSplitter, SentenceTransformersTokenTextSplitter\n",
    "import numpy as np\n",
    "from pypdf import PdfReader\n",
    "from tqdm import tqdm\n",
    "\n",
    "\n",
    "def _read_pdf(filename):\n",
    "    reader = PdfReader(filename)\n",
    "    \n",
    "    pdf_texts = [p.extract_text().strip() for p in reader.pages]\n",
    "\n",
    "    # Filter the empty strings\n",
    "    pdf_texts = [text for text in pdf_texts if text]\n",
    "    return pdf_texts\n",
    "\n",
    "\n",
    "def _chunk_texts(texts):\n",
    "    character_splitter = RecursiveCharacterTextSplitter(\n",
    "        separators=[\"\\n\\n\", \"\\n\", \". \", \" \", \"\"],\n",
    "        chunk_size=1000,\n",
    "        chunk_overlap=0\n",
    "    )\n",
    "    character_split_texts = character_splitter.split_text('\\n\\n'.join(texts))\n",
    "\n",
    "    token_splitter = SentenceTransformersTokenTextSplitter(chunk_overlap=0, tokens_per_chunk=256)\n",
    "\n",
    "    token_split_texts = []\n",
    "    for text in character_split_texts:\n",
    "        token_split_texts += token_splitter.split_text(text)\n",
    "\n",
    "    return token_split_texts\n",
    "\n",
    "def load_chroma(filename, collection_name, embedding_function):\n",
    "    texts = _read_pdf(filename)\n",
    "    chunks = _chunk_texts(texts)\n",
    "\n",
    "    chroma_cliet = chromadb.Client()\n",
    "    chroma_collection = chroma_cliet.create_collection(name=collection_name, embedding_function=embedding_function)\n",
    "\n",
    "    ids = [str(i) for i in range(len(chunks))]\n",
    "\n",
    "    chroma_collection.add(ids=ids, documents=chunks)\n",
    "\n",
    "    return chroma_collection"
   ]
  },
  {
   "cell_type": "code",
   "execution_count": 44,
   "metadata": {},
   "outputs": [
    {
     "name": "stderr",
     "output_type": "stream",
     "text": [
      "c:\\Users\\shyams\\Downloads\\RAG\\.venv\\Lib\\site-packages\\huggingface_hub\\file_download.py:1132: FutureWarning: `resume_download` is deprecated and will be removed in version 1.0.0. Downloads always resume when possible. If you want to force a new download, use `force_download=True`.\n",
      "  warnings.warn(\n"
     ]
    },
    {
     "data": {
      "text/plain": [
       "438"
      ]
     },
     "execution_count": 44,
     "metadata": {},
     "output_type": "execute_result"
    }
   ],
   "source": [
    "chroma_collection = load_chroma(filename=fr'data\\sample.pdf', collection_name='sample', embedding_function=embedding_function)\n",
    "chroma_collection.count()"
   ]
  },
  {
   "cell_type": "code",
   "execution_count": 45,
   "metadata": {},
   "outputs": [
    {
     "name": "stderr",
     "output_type": "stream",
     "text": [
      "c:\\Users\\shyams\\Downloads\\RAG\\.venv\\Lib\\site-packages\\umap\\umap_.py:1945: UserWarning: n_jobs value 1 overridden to 1 by setting random_state. Use no seed for parallelism.\n",
      "  warn(f\"n_jobs value {self.n_jobs} overridden to 1 by setting random_state. Use no seed for parallelism.\")\n",
      "100%|██████████| 438/438 [07:37<00:00,  1.04s/it]\n"
     ]
    }
   ],
   "source": [
    "import umap\n",
    "embeddings = chroma_collection.get(include=['embeddings'])['embeddings']\n",
    "umap_transform = umap.UMAP(random_state=0, transform_seed=0).fit(embeddings)\n",
    "projected_dataset_embeddings = project_embeddings(embeddings, umap_transform)"
   ]
  },
  {
   "cell_type": "code",
   "execution_count": 46,
   "metadata": {},
   "outputs": [
    {
     "data": {
      "text/plain": [
       "array([[12.6586237 ,  7.98261642],\n",
       "       [12.78318024,  7.57137346],\n",
       "       [11.31269264,  5.85169411],\n",
       "       [11.23970509,  9.23397064],\n",
       "       [ 8.95693016,  7.70492935],\n",
       "       [ 9.94081306,  7.81140566],\n",
       "       [ 8.74642849,  6.80665827],\n",
       "       [11.15716743,  9.04938984],\n",
       "       [14.38267422,  7.68552113],\n",
       "       [13.56526852,  8.0137434 ],\n",
       "       [12.33849812,  7.84965706],\n",
       "       [12.46475506,  8.32644749],\n",
       "       [12.20708847, 10.11478329],\n",
       "       [12.41074467,  7.25959063],\n",
       "       [12.97700596,  8.66182709],\n",
       "       [11.39036274,  6.90323687],\n",
       "       [13.01144886,  8.79320431],\n",
       "       [13.04022312,  8.71345711],\n",
       "       [12.96929359,  8.8367691 ],\n",
       "       [12.86731148,  8.94399929],\n",
       "       [12.11449718,  9.37308025],\n",
       "       [11.68114471,  8.26427746],\n",
       "       [12.96124458,  8.84537506],\n",
       "       [12.39950085,  8.76408195],\n",
       "       [ 9.37394047,  9.51047134],\n",
       "       [12.82926178,  8.96147156],\n",
       "       [12.7143116 ,  9.22272301],\n",
       "       [11.41752052,  7.14634991],\n",
       "       [12.40992069,  9.42124939],\n",
       "       [11.86838818,  8.99466038],\n",
       "       [12.06306171,  9.58216953],\n",
       "       [13.31650734,  8.55430984],\n",
       "       [12.3694315 ,  9.50283813],\n",
       "       [11.38405704,  9.84160328],\n",
       "       [12.18764591, 10.17709923],\n",
       "       [11.609725  ,  7.83956909],\n",
       "       [ 9.42620373,  6.22219133],\n",
       "       [ 9.20379925,  6.36585426],\n",
       "       [ 8.81283092,  6.93149948],\n",
       "       [ 8.91020679,  7.59813786],\n",
       "       [ 9.91169167,  8.03419876],\n",
       "       [ 9.41928673,  6.19471693],\n",
       "       [12.92765903,  8.92458725],\n",
       "       [13.09241962,  8.41561604],\n",
       "       [12.25902557,  8.32893372],\n",
       "       [10.01168156,  6.02329111],\n",
       "       [12.86540604,  5.86102247],\n",
       "       [10.20352268,  6.01329851],\n",
       "       [12.23139477, 10.09051132],\n",
       "       [11.89452839,  9.21362114],\n",
       "       [10.15711784,  5.98387718],\n",
       "       [ 7.15786123,  7.3999052 ],\n",
       "       [ 7.53768492,  8.06398678],\n",
       "       [ 8.10621929,  7.66210508],\n",
       "       [ 9.93498802,  6.05908394],\n",
       "       [10.72495937,  6.18573046],\n",
       "       [ 8.52428246,  6.05517054],\n",
       "       [12.8728199 ,  8.01355362],\n",
       "       [ 7.34121037,  6.27720881],\n",
       "       [ 7.64327049,  6.80529308],\n",
       "       [ 8.90703201,  6.31872988],\n",
       "       [ 7.71361065,  5.93893385],\n",
       "       [12.34475327,  5.07621622],\n",
       "       [ 9.57327938,  6.32975626],\n",
       "       [ 7.73450232,  6.55058002],\n",
       "       [ 7.73169327,  6.52805471],\n",
       "       [11.22547531,  6.03561115],\n",
       "       [ 7.85159683,  6.29237795],\n",
       "       [12.84525871,  7.71208048],\n",
       "       [10.71868992,  6.184865  ],\n",
       "       [ 7.69754314,  6.57374907],\n",
       "       [ 8.31042099,  6.18395805],\n",
       "       [ 8.03303719,  5.90573359],\n",
       "       [10.82363605,  5.83241558],\n",
       "       [10.45119858,  7.39277697],\n",
       "       [ 8.63276863,  5.7697835 ],\n",
       "       [ 9.85722733,  5.65912819],\n",
       "       [ 8.37661076,  5.6625452 ],\n",
       "       [ 8.41245365,  5.51327229],\n",
       "       [11.55593204,  8.51176643],\n",
       "       [ 8.00787735,  5.89070415],\n",
       "       [ 7.96486998,  5.80547714],\n",
       "       [ 7.42369223,  5.46021366],\n",
       "       [ 9.48378181,  5.8606019 ],\n",
       "       [ 9.50322056,  5.63007402],\n",
       "       [10.17027855,  6.04232311],\n",
       "       [11.23605251,  7.30490589],\n",
       "       [12.20219612, 10.11329269],\n",
       "       [11.1007576 ,  7.88105726],\n",
       "       [11.21067047,  8.04808712],\n",
       "       [13.73532963,  8.02159882],\n",
       "       [10.42809582,  7.41329432],\n",
       "       [10.47188854,  7.51389551],\n",
       "       [10.42415237,  7.71279192],\n",
       "       [10.36342335,  7.39314651],\n",
       "       [10.22968388,  7.76115847],\n",
       "       [10.8035202 ,  7.77166319],\n",
       "       [10.87095261,  7.99703312],\n",
       "       [11.00483322,  7.23047781],\n",
       "       [ 9.37299442,  7.60190201],\n",
       "       [10.95214176,  7.275702  ],\n",
       "       [11.69103146,  7.49585533],\n",
       "       [ 7.30993843,  6.77088165],\n",
       "       [10.11525631,  7.73009682],\n",
       "       [11.22340584,  7.25070715],\n",
       "       [11.37473106,  7.42037487],\n",
       "       [11.23681927,  7.10905695],\n",
       "       [10.37509441,  7.25090599],\n",
       "       [10.47332001,  7.24256086],\n",
       "       [ 7.55610228,  5.79957819],\n",
       "       [11.13523865,  7.15957165],\n",
       "       [11.20769119,  7.15237188],\n",
       "       [13.03215504,  7.94436932],\n",
       "       [11.0228138 ,  8.29767132],\n",
       "       [11.10490608,  7.12257767],\n",
       "       [11.18096733,  7.19034576],\n",
       "       [13.27622223,  7.37728214],\n",
       "       [11.87329578,  7.81254625],\n",
       "       [12.98893452,  7.34506798],\n",
       "       [12.19849396, 10.16271019],\n",
       "       [11.44580269,  7.36635351],\n",
       "       [12.81293201,  7.07341576],\n",
       "       [12.41067505,  6.9899931 ],\n",
       "       [14.11024094,  7.87549591],\n",
       "       [12.71678638,  8.03213692],\n",
       "       [13.03202438,  6.84235001],\n",
       "       [12.31538582,  7.63241434],\n",
       "       [12.7319746 ,  7.39445305],\n",
       "       [13.14254189,  6.96439075],\n",
       "       [13.39306927,  6.11946297],\n",
       "       [11.86926174,  7.0643115 ],\n",
       "       [12.69187737,  7.17560911],\n",
       "       [13.01049042,  6.97144127],\n",
       "       [12.43976688,  6.47123432],\n",
       "       [11.82223701,  7.2029891 ],\n",
       "       [13.10360813,  8.46754742],\n",
       "       [12.307271  ,  6.90222549],\n",
       "       [10.71813965,  8.44638824],\n",
       "       [11.91077614,  6.49866676],\n",
       "       [12.04507065,  6.16379213],\n",
       "       [12.02434826,  6.05300951],\n",
       "       [12.13092804,  6.20165539],\n",
       "       [12.02949047,  6.00285339],\n",
       "       [11.63054085,  6.97383833],\n",
       "       [11.9630537 ,  6.98256779],\n",
       "       [13.21965504,  7.05048275],\n",
       "       [ 9.7989006 ,  7.0821166 ],\n",
       "       [12.57431889,  7.47151518],\n",
       "       [12.28884506,  7.20031071],\n",
       "       [12.80850601,  7.1044817 ],\n",
       "       [12.4366684 ,  6.94039536],\n",
       "       [12.59776306,  5.17765808],\n",
       "       [11.50235939,  7.44620419],\n",
       "       [11.67780685,  7.08453274],\n",
       "       [12.66607475,  7.35744238],\n",
       "       [12.78929138,  7.10197735],\n",
       "       [ 9.84210587,  9.37991428],\n",
       "       [11.71037769,  8.28914452],\n",
       "       [12.20569992, 10.17937756],\n",
       "       [12.17785835, 10.21913433],\n",
       "       [11.9706831 ,  8.39217758],\n",
       "       [ 9.6879797 ,  9.3610611 ],\n",
       "       [12.05623722,  6.06077814],\n",
       "       [ 9.83132553,  9.42257214],\n",
       "       [ 9.70514393,  9.16679668],\n",
       "       [ 8.864254  ,  8.50779438],\n",
       "       [ 9.71622753,  8.65782452],\n",
       "       [ 8.91065311,  9.43608189],\n",
       "       [13.38337803,  8.32017231],\n",
       "       [10.07048798,  8.58415031],\n",
       "       [ 8.45567608,  8.79175282],\n",
       "       [ 8.68026066,  8.65150356],\n",
       "       [ 8.01771164,  8.91040325],\n",
       "       [ 8.23726082,  9.07537842],\n",
       "       [ 7.8267417 ,  8.5976696 ],\n",
       "       [ 7.57798147,  8.17816448],\n",
       "       [ 7.37112379,  7.92775249],\n",
       "       [ 9.29836845,  9.5553236 ],\n",
       "       [ 8.93059158,  8.75598335],\n",
       "       [12.93517017,  8.21894646],\n",
       "       [ 7.84356022,  7.65910673],\n",
       "       [ 9.00645638,  7.99463129],\n",
       "       [ 7.45107222,  7.68688631],\n",
       "       [ 8.75264454,  8.82137012],\n",
       "       [11.09069157,  7.02064848],\n",
       "       [ 9.71635342,  8.90007591],\n",
       "       [ 9.74435139,  9.24995136],\n",
       "       [ 9.66297817,  9.45095348],\n",
       "       [ 8.84022427,  9.13107395],\n",
       "       [ 8.57607269,  9.0340519 ],\n",
       "       [13.94491005,  7.87067509],\n",
       "       [ 9.1280117 ,  9.23446846],\n",
       "       [ 7.7694068 ,  8.35923004],\n",
       "       [ 8.00447559,  7.95250797],\n",
       "       [ 9.56714249,  9.41626358],\n",
       "       [ 9.38469696,  9.57369518],\n",
       "       [11.0006361 ,  8.25792503],\n",
       "       [11.68705273,  8.23082829],\n",
       "       [11.40628338,  7.59818459],\n",
       "       [11.84362698, 10.22408295],\n",
       "       [11.36020851,  8.69329739],\n",
       "       [11.66786385,  8.28878689],\n",
       "       [10.89590836,  8.31833649],\n",
       "       [ 9.52596569,  8.70270729],\n",
       "       [ 9.00374413,  8.19464779],\n",
       "       [ 9.01118755,  8.34701347],\n",
       "       [ 9.5302639 ,  8.73865318],\n",
       "       [ 7.66292048,  6.72303057],\n",
       "       [ 7.03100681,  7.24481964],\n",
       "       [ 7.55793953,  6.74660921],\n",
       "       [ 7.64927816,  6.81067038],\n",
       "       [ 7.23958015,  5.68931675],\n",
       "       [11.84689426, 10.24807262],\n",
       "       [ 7.05582666,  6.85876465],\n",
       "       [10.33983517,  7.14963198],\n",
       "       [ 7.71263647,  6.27121592],\n",
       "       [ 7.1360693 ,  6.4702301 ],\n",
       "       [ 7.56691217,  5.93908119],\n",
       "       [ 7.0585804 ,  6.35929918],\n",
       "       [ 8.89069271,  6.1617918 ],\n",
       "       [10.19769764,  7.57020378],\n",
       "       [10.03546047,  8.00179577],\n",
       "       [11.02166367,  6.99174786],\n",
       "       [12.60109615,  7.99930906],\n",
       "       [11.57855415,  8.21005821],\n",
       "       [11.07870007,  9.78220654],\n",
       "       [11.28598785, 10.12680244],\n",
       "       [11.09378719,  9.55823612],\n",
       "       [11.20859432,  7.85399675],\n",
       "       [11.31911278,  9.16626167],\n",
       "       [11.84208202, 10.41994762],\n",
       "       [11.81776237,  8.61473274],\n",
       "       [10.73532295,  9.74461269],\n",
       "       [ 8.81656456,  8.29629517],\n",
       "       [ 9.42583942,  8.01682091],\n",
       "       [11.85075569,  7.52176142],\n",
       "       [ 7.17531109,  5.57511282],\n",
       "       [10.66579914,  9.76823807],\n",
       "       [11.22944546,  8.85458374],\n",
       "       [10.83781815,  9.84713554],\n",
       "       [10.76090813,  9.75447655],\n",
       "       [11.08150101, 10.32952499],\n",
       "       [11.00112724, 10.37458134],\n",
       "       [11.11718273, 10.67530346],\n",
       "       [11.55216599, 10.9497776 ],\n",
       "       [11.54084492, 10.93473148],\n",
       "       [11.68380833,  7.63034868],\n",
       "       [10.82025623,  9.39851475],\n",
       "       [11.1608448 , 10.91638565],\n",
       "       [11.51197529, 11.1023922 ],\n",
       "       [11.16204834, 10.95444489],\n",
       "       [11.09378529, 10.9958353 ],\n",
       "       [ 8.42746353,  7.87654352],\n",
       "       [ 8.60328484,  8.45236206],\n",
       "       [11.17160606, 11.02021599],\n",
       "       [ 8.67336082,  8.78195381],\n",
       "       [11.0946207 , 10.66175461],\n",
       "       [11.30744267,  8.88138008],\n",
       "       [11.31116772,  8.20353317],\n",
       "       [12.39894295,  7.97758818],\n",
       "       [11.14752197,  5.24044466],\n",
       "       [12.01860428,  5.97740173],\n",
       "       [12.21218586, 10.14350033],\n",
       "       [11.25570202,  4.61514425],\n",
       "       [10.92774582,  4.53066063],\n",
       "       [11.06358433,  4.62237167],\n",
       "       [ 7.1978097 ,  6.72714424],\n",
       "       [ 8.3194561 ,  5.1164875 ],\n",
       "       [11.54170036, 10.17702293],\n",
       "       [ 7.38544941,  5.69313812],\n",
       "       [ 9.29476261,  6.1950531 ],\n",
       "       [10.50909328,  5.26550102],\n",
       "       [11.05874348,  4.85124063],\n",
       "       [10.40653896,  4.97449875],\n",
       "       [11.05692577,  4.69330788],\n",
       "       [10.90722942,  5.2620101 ],\n",
       "       [ 8.53482342,  5.64955711],\n",
       "       [10.87497711,  6.05502415],\n",
       "       [ 7.07434368,  7.15281582],\n",
       "       [ 8.45732403,  6.58254242],\n",
       "       [ 7.20925808,  6.6071496 ],\n",
       "       [ 8.57147408,  5.94941521],\n",
       "       [ 8.26420212,  5.23410368],\n",
       "       [ 8.16874695,  5.41949034],\n",
       "       [ 7.77186298,  5.31785297],\n",
       "       [ 8.89206314,  6.36354923],\n",
       "       [10.84128475,  5.53424931],\n",
       "       [ 9.26634026,  8.09555435],\n",
       "       [10.50496101,  5.16644049],\n",
       "       [10.9804039 ,  5.40529537],\n",
       "       [ 8.08054066,  6.25551319],\n",
       "       [12.89850903,  9.36084461],\n",
       "       [13.02174282,  5.74670696],\n",
       "       [12.15718842, 10.23676777],\n",
       "       [12.9030447 ,  5.4288063 ],\n",
       "       [12.92969799,  5.47164869],\n",
       "       [12.74117661,  5.28037739],\n",
       "       [12.86086082,  5.45931435],\n",
       "       [12.45224857,  5.42561197],\n",
       "       [ 8.2103157 ,  7.08565283],\n",
       "       [ 7.5204711 ,  7.42865515],\n",
       "       [ 8.99268055,  6.4336729 ],\n",
       "       [ 8.34800816,  6.97506857],\n",
       "       [ 8.514184  ,  6.93917799],\n",
       "       [ 7.90009546,  7.1639657 ],\n",
       "       [ 8.43206882,  7.09592676],\n",
       "       [ 8.75194359,  6.61555719],\n",
       "       [ 8.25565243,  7.11915493],\n",
       "       [ 7.78192997,  6.84848833],\n",
       "       [ 7.62763786,  6.65534973],\n",
       "       [ 7.21372461,  5.72063971],\n",
       "       [ 8.45654106,  6.73242188],\n",
       "       [ 9.27466202,  8.071064  ],\n",
       "       [12.68239117,  5.61075497],\n",
       "       [12.54061985,  5.15565109],\n",
       "       [12.61916256,  5.14896536],\n",
       "       [11.58709621,  5.05054951],\n",
       "       [12.62475204,  5.16418505],\n",
       "       [12.73136234,  5.20157146],\n",
       "       [12.33933258,  8.1585989 ],\n",
       "       [12.69603729,  5.18815565],\n",
       "       [11.87897587,  7.84593582],\n",
       "       [12.18959713, 10.16112232],\n",
       "       [ 8.79530144,  6.79624939],\n",
       "       [13.04455376,  7.27426958],\n",
       "       [ 9.0910368 ,  7.85443783],\n",
       "       [ 7.26843262,  7.28015709],\n",
       "       [ 8.82509232,  7.59298611],\n",
       "       [ 9.59862232,  7.34453869],\n",
       "       [11.26760769,  6.00669861],\n",
       "       [ 9.60546589,  7.31397152],\n",
       "       [10.09304237,  7.30613947],\n",
       "       [11.43247128,  8.37519455],\n",
       "       [11.4730196 ,  8.37817383],\n",
       "       [13.53967381,  8.05784607],\n",
       "       [ 8.5516758 ,  7.40058184],\n",
       "       [10.03818703,  6.56841612],\n",
       "       [11.40739441,  9.71642876],\n",
       "       [11.4298439 ,  8.43983173],\n",
       "       [ 9.38935757,  6.08412457],\n",
       "       [10.95242214,  4.53127337],\n",
       "       [10.52968121,  4.50711203],\n",
       "       [10.63128376,  8.26047897],\n",
       "       [ 9.26810551,  6.0869627 ],\n",
       "       [ 8.88588715,  5.95466805],\n",
       "       [ 9.21187878,  6.01277733],\n",
       "       [ 9.86716557,  7.21788597],\n",
       "       [ 9.05819416,  6.17714024],\n",
       "       [ 9.44727993,  6.36631966],\n",
       "       [12.11183357,  8.10368252],\n",
       "       [11.55259991,  7.59791517],\n",
       "       [11.47844982,  7.7024641 ],\n",
       "       [11.43366718,  8.26054668],\n",
       "       [10.00011253,  8.60467911],\n",
       "       [ 9.61423683,  8.28651714],\n",
       "       [10.00015736,  8.27587891],\n",
       "       [ 9.77633858,  8.20534515],\n",
       "       [10.91269016,  7.46136284],\n",
       "       [ 9.986866  ,  8.15252304],\n",
       "       [11.44501591,  8.37587261],\n",
       "       [11.23189354,  8.52386761],\n",
       "       [13.42705345,  8.281353  ],\n",
       "       [13.39878654,  8.31432438],\n",
       "       [13.24049854,  8.07804489],\n",
       "       [11.26232624,  4.73619223],\n",
       "       [13.24378777,  8.27290154],\n",
       "       [11.92893791,  5.43079519],\n",
       "       [12.2000885 ,  5.5161705 ],\n",
       "       [11.87798786,  7.82188177],\n",
       "       [11.56280613,  5.60905838],\n",
       "       [12.05805206,  5.50915575],\n",
       "       [13.33542252,  6.62851238],\n",
       "       [11.66426563,  5.46218252],\n",
       "       [11.40155411,  7.15604401],\n",
       "       [12.01138687,  5.48804283],\n",
       "       [13.31718254,  5.98432827],\n",
       "       [12.11214352,  5.5139246 ],\n",
       "       [11.13790035,  8.915061  ],\n",
       "       [10.51498604,  8.77820587],\n",
       "       [10.98875141,  9.43318176],\n",
       "       [14.24958706,  7.89762068],\n",
       "       [11.15322018,  9.25178814],\n",
       "       [11.16982937,  9.51575756],\n",
       "       [13.48335266,  8.19334316],\n",
       "       [11.0927906 ,  9.31020927],\n",
       "       [ 7.30136251,  6.70435953],\n",
       "       [ 7.71705627,  8.17539692],\n",
       "       [ 8.08835697,  7.66845942],\n",
       "       [ 8.18005943,  7.41577291],\n",
       "       [ 7.46154785,  7.91051674],\n",
       "       [ 7.25293827,  7.50137138],\n",
       "       [ 7.6952157 ,  6.77123737],\n",
       "       [ 6.9342041 ,  6.22988653],\n",
       "       [ 8.53506088,  6.76713991],\n",
       "       [13.28046513,  7.80104589],\n",
       "       [ 7.8472023 ,  5.95446873],\n",
       "       [ 8.59565163,  6.05229378],\n",
       "       [10.52614498,  9.21054745],\n",
       "       [10.84986496,  9.61341763],\n",
       "       [ 9.81114197,  6.31260157],\n",
       "       [11.76106262,  7.85412693],\n",
       "       [10.41921711,  6.70262194],\n",
       "       [10.1199913 ,  6.53431416],\n",
       "       [ 9.91839886,  6.34798574],\n",
       "       [10.91131687,  7.27142954],\n",
       "       [13.53419685,  8.08793068],\n",
       "       [10.1090498 ,  8.03683662],\n",
       "       [10.07589436,  6.18267775],\n",
       "       [11.23395252,  7.58335781],\n",
       "       [10.98175907,  7.22522545],\n",
       "       [11.08419895,  7.23046112],\n",
       "       [11.47730923,  7.35793304],\n",
       "       [14.09603977,  7.93934536],\n",
       "       [14.27450371,  7.7439518 ],\n",
       "       [14.1505909 ,  7.89609909],\n",
       "       [13.43548203,  7.32383871],\n",
       "       [13.91713428,  7.8772192 ],\n",
       "       [13.44471073,  7.36009884],\n",
       "       [14.59967327,  7.37633896],\n",
       "       [14.60711098,  6.84734774],\n",
       "       [14.53437996,  7.40859795],\n",
       "       [13.72761536,  7.23525953],\n",
       "       [14.55329418,  6.83734035],\n",
       "       [14.51053715,  6.67884731],\n",
       "       [14.29764748,  6.27957106],\n",
       "       [13.74619579,  6.07881498],\n",
       "       [13.94549656,  7.75593233],\n",
       "       [12.9957056 ,  6.15094709],\n",
       "       [11.55544567,  6.36969328],\n",
       "       [14.43186569,  7.66671896],\n",
       "       [14.28972435,  7.71242094],\n",
       "       [14.38270664,  6.44512653],\n",
       "       [14.68682289,  7.18616629],\n",
       "       [14.21263218,  6.21706152],\n",
       "       [13.8341341 ,  5.93322945],\n",
       "       [13.88549423,  6.06712246],\n",
       "       [13.75782871,  5.96471739],\n",
       "       [13.54594994,  7.43168497]])"
      ]
     },
     "execution_count": 46,
     "metadata": {},
     "output_type": "execute_result"
    }
   ],
   "source": [
    "projected_dataset_embeddings"
   ]
  },
  {
   "cell_type": "code",
   "execution_count": 47,
   "metadata": {},
   "outputs": [
    {
     "data": {
      "text/plain": [
       "(6.546573162078857, 15.074453830718994, 4.177348017692566, 11.432156205177307)"
      ]
     },
     "execution_count": 47,
     "metadata": {},
     "output_type": "execute_result"
    },
    {
     "data": {
      "image/png": "[encoded data removed]",
      "text/plain": [
       "<Figure size 640x480 with 1 Axes>"
      ]
     },
     "metadata": {},
     "output_type": "display_data"
    }
   ],
   "source": [
    "import matplotlib.pyplot as plt\n",
    "\n",
    "plt.figure()\n",
    "plt.scatter(projected_dataset_embeddings[:, 0], projected_dataset_embeddings[:, 1], s=10)\n",
    "plt.gca().set_aspect('equal', 'datalim')\n",
    "plt.title('Projected Embeddings')\n",
    "plt.axis('off')"
   ]
  },
  {
   "cell_type": "code",
   "execution_count": 48,
   "metadata": {},
   "outputs": [],
   "source": [
    "\n",
    "results = chroma_collection.query(query_texts=Query, n_results=5, include=['documents', 'embeddings'])"
   ]
  },
  {
   "cell_type": "code",
   "execution_count": 55,
   "metadata": {},
   "outputs": [
    {
     "data": {
      "text/plain": [
       "['explore advanced concepts of mlflow in the last chapter of the book.',\n",
       " 'further reading 139 further reading in order to further your knowledge, you can consult the documentation at the following link : https : / / github. com / mlflow / mlflow / blob / master / examples / multistep _ workflow / mlproject',\n",
       " 'mlflow enables an everyday practitioner in one platform to manage the ml life cycle, from iteration on model development up to deployment in a reliable and scalable environment that is compatible with modern software system requirements.',\n",
       " 'ml ecosystem for both engineers and data scientists. we will now delve into extending mlflow functionalities through plugins.',\n",
       " \"1 introducing mlflow mlflow is an open source platform for the machine learning ( ml ) life cycle, with a focus on reproducibility, training, and deployment. it is based on an open interface design and is able to work with any language or platform, with clients in python and java, and is accessible through a rest api. scalability is also an important benefit that an ml developer can leverage with mlflow. in this chapter of the book, we will take a look at how mlflow works, with the help of examples and sample code. this will build the necessary foundation for the rest of the book in order to use the concept to engineer an end - to - end ml project. specifically, we will look at the following sections in this chapter : • what is mlflow? • getting started with mlflow • exploring mlflow modules technical requirements for this chapter, you will need the following prerequisites : • the latest version of docker installed in your machine. in case you don't have the\"]"
      ]
     },
     "execution_count": 55,
     "metadata": {},
     "output_type": "execute_result"
    }
   ],
   "source": [
    "results['documents'][0]"
   ]
  },
  {
   "cell_type": "code",
   "execution_count": 49,
   "metadata": {},
   "outputs": [
    {
     "name": "stderr",
     "output_type": "stream",
     "text": [
      "100%|██████████| 1/1 [00:00<00:00,  1.42it/s]\n",
      "100%|██████████| 5/5 [00:03<00:00,  1.32it/s]\n"
     ]
    }
   ],
   "source": [
    "query_embedding = embedding_function([Query])[0]\n",
    "retrieved_embeddings = results['embeddings'][0]\n",
    "\n",
    "projected_query_embedding = project_embeddings([query_embedding], umap_transform)\n",
    "projected_retrieved_embeddings = project_embeddings(retrieved_embeddings, umap_transform)"
   ]
  },
  {
   "cell_type": "code",
   "execution_count": 50,
   "metadata": {},
   "outputs": [
    {
     "data": {
      "text/plain": [
       "(6.546573162078857, 15.074453830718994, 4.177348017692566, 11.432156205177307)"
      ]
     },
     "execution_count": 50,
     "metadata": {},
     "output_type": "execute_result"
    },
    {
     "data": {
      "image/png": "[encoded data removed]",
      "text/plain": [
       "<Figure size 640x480 with 1 Axes>"
      ]
     },
     "metadata": {},
     "output_type": "display_data"
    }
   ],
   "source": [
    "plt.figure()\n",
    "plt.scatter(projected_dataset_embeddings[:, 0], projected_dataset_embeddings[:, 1], s=10, color='gray')\n",
    "plt.scatter(projected_query_embedding[:, 0], projected_query_embedding[:, 1], s=150, marker='X', color='r')\n",
    "plt.scatter(projected_retrieved_embeddings[:, 0], projected_retrieved_embeddings[:, 1], s=100, facecolors='none', edgecolors='g')\n",
    "\n",
    "plt.gca().set_aspect('equal', 'datalim')\n",
    "plt.title(f'{Query}')\n",
    "plt.axis('off')"
   ]
  },
  {
   "cell_type": "code",
   "execution_count": 56,
   "metadata": {},
   "outputs": [],
   "source": [
    "multiple_query=generate_queries()\n",
    "d=multiple_query.invoke(Query)"
   ]
  },
  {
   "cell_type": "code",
   "execution_count": 57,
   "metadata": {},
   "outputs": [
    {
     "name": "stdout",
     "output_type": "stream",
     "text": [
      "1. Can you explain the concept of MLflow?\n",
      "2. How would you define MLflow?\n",
      "3. What are the key features of MLflow?\n",
      "4. Could you provide an overview of MLflow and its functionalities?\n"
     ]
    }
   ],
   "source": [
    "for i in d:\n",
    "    print(i)"
   ]
  },
  {
   "cell_type": "code",
   "execution_count": 58,
   "metadata": {},
   "outputs": [],
   "source": [
    "queries = [Query] + d\n",
    "results = chroma_collection.query(query_texts=queries, n_results=5, include=['documents', 'embeddings'])\n",
    "\n",
    "retrieved_documents = results['documents']\n",
    "\n",
    "# Deduplicate the retrieved documents\n",
    "unique_documents = set()\n",
    "for documents in retrieved_documents:\n",
    "    for document in documents:\n",
    "        unique_documents.add(document)"
   ]
  },
  {
   "cell_type": "code",
   "execution_count": 59,
   "metadata": {},
   "outputs": [
    {
     "name": "stderr",
     "output_type": "stream",
     "text": [
      "100%|██████████| 1/1 [00:00<00:00,  1.37it/s]\n",
      "100%|██████████| 4/4 [00:03<00:00,  1.29it/s]\n"
     ]
    }
   ],
   "source": [
    "original_query_embedding = embedding_function([Query])\n",
    "augmented_query_embeddings = embedding_function(d)\n",
    "\n",
    "project_original_query = project_embeddings(original_query_embedding, umap_transform)\n",
    "project_augmented_queries = project_embeddings(augmented_query_embeddings, umap_transform)\n"
   ]
  },
  {
   "cell_type": "code",
   "execution_count": 60,
   "metadata": {},
   "outputs": [
    {
     "name": "stderr",
     "output_type": "stream",
     "text": [
      "100%|██████████| 25/25 [00:18<00:00,  1.32it/s]\n"
     ]
    }
   ],
   "source": [
    "result_embeddings = results['embeddings']\n",
    "result_embeddings = [item for sublist in result_embeddings for item in sublist]\n",
    "projected_result_embeddings = project_embeddings(result_embeddings, umap_transform)\n"
   ]
  },
  {
   "cell_type": "code",
   "execution_count": 62,
   "metadata": {},
   "outputs": [
    {
     "data": {
      "text/plain": [
       "(6.546573162078857, 15.074453830718994, 4.177348017692566, 11.432156205177307)"
      ]
     },
     "execution_count": 62,
     "metadata": {},
     "output_type": "execute_result"
    },
    {
     "data": {
      "image/png": "[encoded data removed]",
      "text/plain": [
       "<Figure size 640x480 with 1 Axes>"
      ]
     },
     "metadata": {},
     "output_type": "display_data"
    }
   ],
   "source": [
    "import matplotlib.pyplot as plt\n",
    "\n",
    "plt.figure()\n",
    "plt.scatter(projected_dataset_embeddings[:, 0], projected_dataset_embeddings[:, 1], s=10, color='gray')\n",
    "plt.scatter(project_augmented_queries[:, 0], project_augmented_queries[:, 1], s=150, marker='X', color='orange')\n",
    "plt.scatter(projected_result_embeddings[:, 0], projected_result_embeddings[:, 1], s=100, facecolors='none', edgecolors='g')\n",
    "plt.scatter(project_original_query[:, 0], project_original_query[:, 1], s=150, marker='X', color='r')\n",
    "\n",
    "plt.gca().set_aspect('equal', 'datalim')\n",
    "plt.title(f'{Query}')\n",
    "plt.axis('off')"
   ]
  },
  {
   "cell_type": "code",
   "execution_count": null,
   "metadata": {},
   "outputs": [],
   "source": []
  }
 ],
 "metadata": {
  "kernelspec": {
   "display_name": ".venv",
   "language": "python",
   "name": "python3"
  },
  "language_info": {
   "codemirror_mode": {
    "name": "ipython",
    "version": 3
   },
   "file_extension": ".py",
   "mimetype": "text/x-python",
   "name": "python",
   "nbconvert_exporter": "python",
   "pygments_lexer": "ipython3",
   "version": "3.12.3"
  }
 },
 "nbformat": 4,
 "nbformat_minor": 2
}
