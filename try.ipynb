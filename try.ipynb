{
 "cells": [
  {
   "cell_type": "code",
   "execution_count": 325,
   "metadata": {},
   "outputs": [],
   "source": [
    "Query=\"What are all the education qualification of shyam?\""
   ]
  },
  {
   "cell_type": "code",
   "execution_count": 326,
   "metadata": {},
   "outputs": [
    {
     "data": {
      "text/plain": [
       "True"
      ]
     },
     "execution_count": 326,
     "metadata": {},
     "output_type": "execute_result"
    }
   ],
   "source": [
    "from dotenv import load_dotenv\n",
    "\n",
    "load_dotenv()\n"
   ]
  },
  {
   "cell_type": "code",
   "execution_count": 327,
   "metadata": {},
   "outputs": [],
   "source": [
    "import os\n",
    "from langchain.text_splitter import RecursiveCharacterTextSplitter\n",
    "from langchain.document_loaders import PyPDFLoader\n",
    "\n",
    "def process_pdf_batch(pdf_file):\n",
    "    loader = PyPDFLoader(pdf_file)\n",
    "    pages = loader.load_and_split()\n",
    "    character_splitter = RecursiveCharacterTextSplitter(\n",
    "        chunk_size=1000,\n",
    "        chunk_overlap=0\n",
    "        )\n",
    "    pages = character_splitter.split_documents(pages)\n",
    "    return pages"
   ]
  },
  {
   "cell_type": "code",
   "execution_count": 328,
   "metadata": {},
   "outputs": [],
   "source": [
    "d=\"resume\""
   ]
  },
  {
   "cell_type": "code",
   "execution_count": 329,
   "metadata": {},
   "outputs": [
    {
     "name": "stderr",
     "output_type": "stream",
     "text": [
      "<string>:1: SyntaxWarning: invalid escape sequence '\\{'\n",
      "<>:1: SyntaxWarning: invalid escape sequence '\\{'\n",
      "<string>:1: SyntaxWarning: invalid escape sequence '\\{'\n",
      "<>:1: SyntaxWarning: invalid escape sequence '\\{'\n",
      "C:\\Users\\shyams\\AppData\\Local\\Temp\\ipykernel_14848\\2212597078.py:1: SyntaxWarning: invalid escape sequence '\\{'\n",
      "  chunks=process_pdf_batch(f\"data\\{d}.pdf\")\n"
     ]
    }
   ],
   "source": [
    "chunks=process_pdf_batch(f\"data\\{d}.pdf\")"
   ]
  },
  {
   "cell_type": "code",
   "execution_count": 330,
   "metadata": {},
   "outputs": [],
   "source": [
    "from langchain_community.vectorstores import FAISS\n",
    "from langchain_openai import OpenAIEmbeddings\n",
    "if not os.path.exists(f\"{d}_index\"):\n",
    "    document_in_faiss = FAISS.from_documents(chunks, OpenAIEmbeddings())\n",
    "    document_in_faiss.save_local(f\"{d}_index\")"
   ]
  },
  {
   "cell_type": "code",
   "execution_count": 331,
   "metadata": {},
   "outputs": [],
   "source": [
    "document_in_faiss=FAISS.load_local(f\"{d}_index\", OpenAIEmbeddings(),allow_dangerous_deserialization=True)\n",
    "faiss_retriever=document_in_faiss.as_retriever(search_kwargs={'k': 10})"
   ]
  },
  {
   "cell_type": "code",
   "execution_count": 332,
   "metadata": {},
   "outputs": [],
   "source": [
    "from langchain.prompts import ChatPromptTemplate\n",
    "from langchain_core.output_parsers import StrOutputParser\n",
    "from langchain_openai import ChatOpenAI\n",
    "from langchain.load import dumps, loads\n",
    "\n",
    "def generate_queries():\n",
    "        \n",
    "    # Multi Query: Different Perspectives\n",
    "    template = \"\"\"You are an AI language model assistant. Your task is to generate Four \n",
    "    different versions of the given user question to retrieve relevant documents from a vector \n",
    "    database. By generating multiple perspectives on the user question, your goal is to help\n",
    "    the user overcome some of the limitations of the distance-based similarity search. \n",
    "    Provide these alternative questions separated by newlines. Original question: {question}\"\"\"\n",
    "    prompt_perspectives = ChatPromptTemplate.from_template(template)\n",
    "\n",
    "\n",
    "    generate_querie = (\n",
    "        prompt_perspectives \n",
    "        | ChatOpenAI(temperature=0) \n",
    "        | StrOutputParser() \n",
    "        | (lambda x: x.split(\"\\n\"))\n",
    "    )\n",
    "    return generate_querie \n",
    "\n",
    "\n",
    "def _get_docs(m):\n",
    "    docs=[]\n",
    "    docs.extend(m['original'])\n",
    "    for i in m['new']:\n",
    "        docs.extend(i)\n",
    "    return docs\n",
    "\n"
   ]
  },
  {
   "cell_type": "code",
   "execution_count": 333,
   "metadata": {},
   "outputs": [],
   "source": [
    "from langchain_core.runnables import RunnableParallel\n",
    "original_question= faiss_retriever\n",
    "retrieval_chain =  generate_queries() | faiss_retriever.map()\n",
    "map_chain = RunnableParallel(original=original_question,new=retrieval_chain) | _get_docs"
   ]
  },
  {
   "cell_type": "code",
   "execution_count": 302,
   "metadata": {},
   "outputs": [],
   "source": [
    "# t=map_chain.invoke(Query)"
   ]
  },
  {
   "cell_type": "code",
   "execution_count": 303,
   "metadata": {},
   "outputs": [
    {
     "data": {
      "text/plain": [
       "20"
      ]
     },
     "execution_count": 303,
     "metadata": {},
     "output_type": "execute_result"
    }
   ],
   "source": [
    "# len(t)"
   ]
  },
  {
   "cell_type": "code",
   "execution_count": 304,
   "metadata": {},
   "outputs": [
    {
     "data": {
      "text/plain": [
       "[Document(page_content='Shyam Sundar\\n5,kavimani steet, Pankajam colony, 3rd cross street, Madurai, India - 625009\\n♂phone+91-9080765574 /envel⌢pemailshyamsundar.2022@gmail.com /linkedinshyamsundar007 /githubShyam-Sundar-7♂laptopPortfolio\\nProjects\\nLLM-Powered Coupon Recommender /github/video |Python, Streamlit, Langchain, OpenAI November 2023\\n•Developed a QA system for e-commerce with personalized coupon recommendations using OpenAI’s LLMs.\\n•Streamlined user interactions through a Streamlit interface and Langchain for real-world scenario simulations.\\n•Incorporated FAISS for refined recommendation processes.\\nPeopleCare Insurance Prediction /github |Python, Jupyter, Azure Cloud, Flask, Docker October 2023\\n•Expanded PeopleCare into vehicle insurance with a predictive model for effective customer targeting.\\n•Thorough analysis of customer behavior and data cleaning for accurate predictive modeling.\\n•Achieved 80% prediction accuracy using LightGBM.', metadata={'source': 'data\\\\resume.pdf', 'page': 0}),\n",
       " Document(page_content='Relevant Coursework\\n•Data Structures\\n•Advanced Numerical Techniques•Machine Learning\\n•Data Science•Deep Learning\\n•Computer Graphics\\nTechnical Skills\\nLanguages : Python, C/C++, SQL (Postgres), Matlab, Latex\\nFrameworks : Pytorch, Tensorflow, Flask, Pytorch Lightning\\nTools/Platform : Tableau, Power Bi, Azure, Git, Jupyter, Docker\\nLibraries : Scikit-Learn, Pandas, Numpy, Matplotlib, Seaborn\\nCertifications\\n•Certified Associate Data Analyst\\n•SQL [Advanced] - Hackerank\\n•Management Consulting Mentorship\\n•Generative AI at SAP•ML for Business professionals using No-Code AI tools\\n•Python [Basic] - Hackerank\\n•Software Engineer Intern -Hackerank\\nPublications\\nSuspicious Event Detection of Cargo Vessels Based on AIS Data at ICDMAI,2023', metadata={'source': 'data\\\\resume.pdf', 'page': 0}),\n",
       " Document(page_content='•Engineered a path prediction algorithm using a sequence-to-sequence model with an attention mechanism.\\nFederated Learning on Multiclass classification |Python, Deep Learning, Jupyter Notebook June 2022 - July 2022\\n•Utilized the CIFAR dataset for training, involving 20 client nodes with training activities based on the VGG-19 model.\\n•Central global model collected weight updates from six randomly selected client models, averaging the contributions, and\\ndisseminated the updated global model to all participating clients.\\n•Effected a commendable accuracy rate of 78% upon successful completion of the training process, demonstrating the effectiveness\\nof the federated learning approach in preserving data security and privacy while maintaining model performance.\\nEducation\\nDefence Institute of Advanced Technology Pune, IN\\nM.Tech in Modelling and Simulation, GPA: 7.95 May 2023\\nNational Institute of Technology Tiruchirappalli, IN\\nB.Tech in Chemical Engineering, GPA: 7.65 May 2021', metadata={'source': 'data\\\\resume.pdf', 'page': 0}),\n",
       " Document(page_content='Hate Speech Prediction /github |Python, Pytorch Lightning, Flask, Docker October 2023\\n•Developed a robust hate speech detection algorithm for content filtration.\\n•Attained 91.95% accuracy with fine-tuned pre-existing Bert model.\\n•Executed model deployment via Flask and Docker for scalability.\\nMachine Failure Prediction /github |Azure Machine Learning September 2023\\n•Conducted an extensive investigation of a Milling machine to enhance operational reliability.\\n•Conceived 97% recall rate for predicting machine failures using logistic regression and SMOTE.\\n•Managed in Azure Designer for comprehensive data analysis and predictive modeling.\\nData Driven Model for Anomaly Detection and Path Prediction |Python, Deep Learning July 2022 - April 2023\\n•Investigated and improved AIS for cargo vessel anomaly detection and path prediction.\\n•Formulated a statistical method for robust anomaly detection.', metadata={'source': 'data\\\\resume.pdf', 'page': 0}),\n",
       " Document(page_content='Shyam Sundar\\n5,kavimani steet, Pankajam colony, 3rd cross street, Madurai, India - 625009\\n♂phone+91-9080765574 /envel⌢pemailshyamsundar.2022@gmail.com /linkedinshyamsundar007 /githubShyam-Sundar-7♂laptopPortfolio\\nProjects\\nLLM-Powered Coupon Recommender /github/video |Python, Streamlit, Langchain, OpenAI November 2023\\n•Developed a QA system for e-commerce with personalized coupon recommendations using OpenAI’s LLMs.\\n•Streamlined user interactions through a Streamlit interface and Langchain for real-world scenario simulations.\\n•Incorporated FAISS for refined recommendation processes.\\nPeopleCare Insurance Prediction /github |Python, Jupyter, Azure Cloud, Flask, Docker October 2023\\n•Expanded PeopleCare into vehicle insurance with a predictive model for effective customer targeting.\\n•Thorough analysis of customer behavior and data cleaning for accurate predictive modeling.\\n•Achieved 80% prediction accuracy using LightGBM.', metadata={'source': 'data\\\\resume.pdf', 'page': 0}),\n",
       " Document(page_content='Relevant Coursework\\n•Data Structures\\n•Advanced Numerical Techniques•Machine Learning\\n•Data Science•Deep Learning\\n•Computer Graphics\\nTechnical Skills\\nLanguages : Python, C/C++, SQL (Postgres), Matlab, Latex\\nFrameworks : Pytorch, Tensorflow, Flask, Pytorch Lightning\\nTools/Platform : Tableau, Power Bi, Azure, Git, Jupyter, Docker\\nLibraries : Scikit-Learn, Pandas, Numpy, Matplotlib, Seaborn\\nCertifications\\n•Certified Associate Data Analyst\\n•SQL [Advanced] - Hackerank\\n•Management Consulting Mentorship\\n•Generative AI at SAP•ML for Business professionals using No-Code AI tools\\n•Python [Basic] - Hackerank\\n•Software Engineer Intern -Hackerank\\nPublications\\nSuspicious Event Detection of Cargo Vessels Based on AIS Data at ICDMAI,2023', metadata={'source': 'data\\\\resume.pdf', 'page': 0}),\n",
       " Document(page_content='•Engineered a path prediction algorithm using a sequence-to-sequence model with an attention mechanism.\\nFederated Learning on Multiclass classification |Python, Deep Learning, Jupyter Notebook June 2022 - July 2022\\n•Utilized the CIFAR dataset for training, involving 20 client nodes with training activities based on the VGG-19 model.\\n•Central global model collected weight updates from six randomly selected client models, averaging the contributions, and\\ndisseminated the updated global model to all participating clients.\\n•Effected a commendable accuracy rate of 78% upon successful completion of the training process, demonstrating the effectiveness\\nof the federated learning approach in preserving data security and privacy while maintaining model performance.\\nEducation\\nDefence Institute of Advanced Technology Pune, IN\\nM.Tech in Modelling and Simulation, GPA: 7.95 May 2023\\nNational Institute of Technology Tiruchirappalli, IN\\nB.Tech in Chemical Engineering, GPA: 7.65 May 2021', metadata={'source': 'data\\\\resume.pdf', 'page': 0}),\n",
       " Document(page_content='Hate Speech Prediction /github |Python, Pytorch Lightning, Flask, Docker October 2023\\n•Developed a robust hate speech detection algorithm for content filtration.\\n•Attained 91.95% accuracy with fine-tuned pre-existing Bert model.\\n•Executed model deployment via Flask and Docker for scalability.\\nMachine Failure Prediction /github |Azure Machine Learning September 2023\\n•Conducted an extensive investigation of a Milling machine to enhance operational reliability.\\n•Conceived 97% recall rate for predicting machine failures using logistic regression and SMOTE.\\n•Managed in Azure Designer for comprehensive data analysis and predictive modeling.\\nData Driven Model for Anomaly Detection and Path Prediction |Python, Deep Learning July 2022 - April 2023\\n•Investigated and improved AIS for cargo vessel anomaly detection and path prediction.\\n•Formulated a statistical method for robust anomaly detection.', metadata={'source': 'data\\\\resume.pdf', 'page': 0}),\n",
       " Document(page_content='Shyam Sundar\\n5,kavimani steet, Pankajam colony, 3rd cross street, Madurai, India - 625009\\n♂phone+91-9080765574 /envel⌢pemailshyamsundar.2022@gmail.com /linkedinshyamsundar007 /githubShyam-Sundar-7♂laptopPortfolio\\nProjects\\nLLM-Powered Coupon Recommender /github/video |Python, Streamlit, Langchain, OpenAI November 2023\\n•Developed a QA system for e-commerce with personalized coupon recommendations using OpenAI’s LLMs.\\n•Streamlined user interactions through a Streamlit interface and Langchain for real-world scenario simulations.\\n•Incorporated FAISS for refined recommendation processes.\\nPeopleCare Insurance Prediction /github |Python, Jupyter, Azure Cloud, Flask, Docker October 2023\\n•Expanded PeopleCare into vehicle insurance with a predictive model for effective customer targeting.\\n•Thorough analysis of customer behavior and data cleaning for accurate predictive modeling.\\n•Achieved 80% prediction accuracy using LightGBM.', metadata={'source': 'data\\\\resume.pdf', 'page': 0}),\n",
       " Document(page_content='Relevant Coursework\\n•Data Structures\\n•Advanced Numerical Techniques•Machine Learning\\n•Data Science•Deep Learning\\n•Computer Graphics\\nTechnical Skills\\nLanguages : Python, C/C++, SQL (Postgres), Matlab, Latex\\nFrameworks : Pytorch, Tensorflow, Flask, Pytorch Lightning\\nTools/Platform : Tableau, Power Bi, Azure, Git, Jupyter, Docker\\nLibraries : Scikit-Learn, Pandas, Numpy, Matplotlib, Seaborn\\nCertifications\\n•Certified Associate Data Analyst\\n•SQL [Advanced] - Hackerank\\n•Management Consulting Mentorship\\n•Generative AI at SAP•ML for Business professionals using No-Code AI tools\\n•Python [Basic] - Hackerank\\n•Software Engineer Intern -Hackerank\\nPublications\\nSuspicious Event Detection of Cargo Vessels Based on AIS Data at ICDMAI,2023', metadata={'source': 'data\\\\resume.pdf', 'page': 0}),\n",
       " Document(page_content='•Engineered a path prediction algorithm using a sequence-to-sequence model with an attention mechanism.\\nFederated Learning on Multiclass classification |Python, Deep Learning, Jupyter Notebook June 2022 - July 2022\\n•Utilized the CIFAR dataset for training, involving 20 client nodes with training activities based on the VGG-19 model.\\n•Central global model collected weight updates from six randomly selected client models, averaging the contributions, and\\ndisseminated the updated global model to all participating clients.\\n•Effected a commendable accuracy rate of 78% upon successful completion of the training process, demonstrating the effectiveness\\nof the federated learning approach in preserving data security and privacy while maintaining model performance.\\nEducation\\nDefence Institute of Advanced Technology Pune, IN\\nM.Tech in Modelling and Simulation, GPA: 7.95 May 2023\\nNational Institute of Technology Tiruchirappalli, IN\\nB.Tech in Chemical Engineering, GPA: 7.65 May 2021', metadata={'source': 'data\\\\resume.pdf', 'page': 0}),\n",
       " Document(page_content='Hate Speech Prediction /github |Python, Pytorch Lightning, Flask, Docker October 2023\\n•Developed a robust hate speech detection algorithm for content filtration.\\n•Attained 91.95% accuracy with fine-tuned pre-existing Bert model.\\n•Executed model deployment via Flask and Docker for scalability.\\nMachine Failure Prediction /github |Azure Machine Learning September 2023\\n•Conducted an extensive investigation of a Milling machine to enhance operational reliability.\\n•Conceived 97% recall rate for predicting machine failures using logistic regression and SMOTE.\\n•Managed in Azure Designer for comprehensive data analysis and predictive modeling.\\nData Driven Model for Anomaly Detection and Path Prediction |Python, Deep Learning July 2022 - April 2023\\n•Investigated and improved AIS for cargo vessel anomaly detection and path prediction.\\n•Formulated a statistical method for robust anomaly detection.', metadata={'source': 'data\\\\resume.pdf', 'page': 0}),\n",
       " Document(page_content='Shyam Sundar\\n5,kavimani steet, Pankajam colony, 3rd cross street, Madurai, India - 625009\\n♂phone+91-9080765574 /envel⌢pemailshyamsundar.2022@gmail.com /linkedinshyamsundar007 /githubShyam-Sundar-7♂laptopPortfolio\\nProjects\\nLLM-Powered Coupon Recommender /github/video |Python, Streamlit, Langchain, OpenAI November 2023\\n•Developed a QA system for e-commerce with personalized coupon recommendations using OpenAI’s LLMs.\\n•Streamlined user interactions through a Streamlit interface and Langchain for real-world scenario simulations.\\n•Incorporated FAISS for refined recommendation processes.\\nPeopleCare Insurance Prediction /github |Python, Jupyter, Azure Cloud, Flask, Docker October 2023\\n•Expanded PeopleCare into vehicle insurance with a predictive model for effective customer targeting.\\n•Thorough analysis of customer behavior and data cleaning for accurate predictive modeling.\\n•Achieved 80% prediction accuracy using LightGBM.', metadata={'source': 'data\\\\resume.pdf', 'page': 0}),\n",
       " Document(page_content='Relevant Coursework\\n•Data Structures\\n•Advanced Numerical Techniques•Machine Learning\\n•Data Science•Deep Learning\\n•Computer Graphics\\nTechnical Skills\\nLanguages : Python, C/C++, SQL (Postgres), Matlab, Latex\\nFrameworks : Pytorch, Tensorflow, Flask, Pytorch Lightning\\nTools/Platform : Tableau, Power Bi, Azure, Git, Jupyter, Docker\\nLibraries : Scikit-Learn, Pandas, Numpy, Matplotlib, Seaborn\\nCertifications\\n•Certified Associate Data Analyst\\n•SQL [Advanced] - Hackerank\\n•Management Consulting Mentorship\\n•Generative AI at SAP•ML for Business professionals using No-Code AI tools\\n•Python [Basic] - Hackerank\\n•Software Engineer Intern -Hackerank\\nPublications\\nSuspicious Event Detection of Cargo Vessels Based on AIS Data at ICDMAI,2023', metadata={'source': 'data\\\\resume.pdf', 'page': 0}),\n",
       " Document(page_content='•Engineered a path prediction algorithm using a sequence-to-sequence model with an attention mechanism.\\nFederated Learning on Multiclass classification |Python, Deep Learning, Jupyter Notebook June 2022 - July 2022\\n•Utilized the CIFAR dataset for training, involving 20 client nodes with training activities based on the VGG-19 model.\\n•Central global model collected weight updates from six randomly selected client models, averaging the contributions, and\\ndisseminated the updated global model to all participating clients.\\n•Effected a commendable accuracy rate of 78% upon successful completion of the training process, demonstrating the effectiveness\\nof the federated learning approach in preserving data security and privacy while maintaining model performance.\\nEducation\\nDefence Institute of Advanced Technology Pune, IN\\nM.Tech in Modelling and Simulation, GPA: 7.95 May 2023\\nNational Institute of Technology Tiruchirappalli, IN\\nB.Tech in Chemical Engineering, GPA: 7.65 May 2021', metadata={'source': 'data\\\\resume.pdf', 'page': 0}),\n",
       " Document(page_content='Hate Speech Prediction /github |Python, Pytorch Lightning, Flask, Docker October 2023\\n•Developed a robust hate speech detection algorithm for content filtration.\\n•Attained 91.95% accuracy with fine-tuned pre-existing Bert model.\\n•Executed model deployment via Flask and Docker for scalability.\\nMachine Failure Prediction /github |Azure Machine Learning September 2023\\n•Conducted an extensive investigation of a Milling machine to enhance operational reliability.\\n•Conceived 97% recall rate for predicting machine failures using logistic regression and SMOTE.\\n•Managed in Azure Designer for comprehensive data analysis and predictive modeling.\\nData Driven Model for Anomaly Detection and Path Prediction |Python, Deep Learning July 2022 - April 2023\\n•Investigated and improved AIS for cargo vessel anomaly detection and path prediction.\\n•Formulated a statistical method for robust anomaly detection.', metadata={'source': 'data\\\\resume.pdf', 'page': 0}),\n",
       " Document(page_content='Shyam Sundar\\n5,kavimani steet, Pankajam colony, 3rd cross street, Madurai, India - 625009\\n♂phone+91-9080765574 /envel⌢pemailshyamsundar.2022@gmail.com /linkedinshyamsundar007 /githubShyam-Sundar-7♂laptopPortfolio\\nProjects\\nLLM-Powered Coupon Recommender /github/video |Python, Streamlit, Langchain, OpenAI November 2023\\n•Developed a QA system for e-commerce with personalized coupon recommendations using OpenAI’s LLMs.\\n•Streamlined user interactions through a Streamlit interface and Langchain for real-world scenario simulations.\\n•Incorporated FAISS for refined recommendation processes.\\nPeopleCare Insurance Prediction /github |Python, Jupyter, Azure Cloud, Flask, Docker October 2023\\n•Expanded PeopleCare into vehicle insurance with a predictive model for effective customer targeting.\\n•Thorough analysis of customer behavior and data cleaning for accurate predictive modeling.\\n•Achieved 80% prediction accuracy using LightGBM.', metadata={'source': 'data\\\\resume.pdf', 'page': 0}),\n",
       " Document(page_content='Relevant Coursework\\n•Data Structures\\n•Advanced Numerical Techniques•Machine Learning\\n•Data Science•Deep Learning\\n•Computer Graphics\\nTechnical Skills\\nLanguages : Python, C/C++, SQL (Postgres), Matlab, Latex\\nFrameworks : Pytorch, Tensorflow, Flask, Pytorch Lightning\\nTools/Platform : Tableau, Power Bi, Azure, Git, Jupyter, Docker\\nLibraries : Scikit-Learn, Pandas, Numpy, Matplotlib, Seaborn\\nCertifications\\n•Certified Associate Data Analyst\\n•SQL [Advanced] - Hackerank\\n•Management Consulting Mentorship\\n•Generative AI at SAP•ML for Business professionals using No-Code AI tools\\n•Python [Basic] - Hackerank\\n•Software Engineer Intern -Hackerank\\nPublications\\nSuspicious Event Detection of Cargo Vessels Based on AIS Data at ICDMAI,2023', metadata={'source': 'data\\\\resume.pdf', 'page': 0}),\n",
       " Document(page_content='•Engineered a path prediction algorithm using a sequence-to-sequence model with an attention mechanism.\\nFederated Learning on Multiclass classification |Python, Deep Learning, Jupyter Notebook June 2022 - July 2022\\n•Utilized the CIFAR dataset for training, involving 20 client nodes with training activities based on the VGG-19 model.\\n•Central global model collected weight updates from six randomly selected client models, averaging the contributions, and\\ndisseminated the updated global model to all participating clients.\\n•Effected a commendable accuracy rate of 78% upon successful completion of the training process, demonstrating the effectiveness\\nof the federated learning approach in preserving data security and privacy while maintaining model performance.\\nEducation\\nDefence Institute of Advanced Technology Pune, IN\\nM.Tech in Modelling and Simulation, GPA: 7.95 May 2023\\nNational Institute of Technology Tiruchirappalli, IN\\nB.Tech in Chemical Engineering, GPA: 7.65 May 2021', metadata={'source': 'data\\\\resume.pdf', 'page': 0}),\n",
       " Document(page_content='Hate Speech Prediction /github |Python, Pytorch Lightning, Flask, Docker October 2023\\n•Developed a robust hate speech detection algorithm for content filtration.\\n•Attained 91.95% accuracy with fine-tuned pre-existing Bert model.\\n•Executed model deployment via Flask and Docker for scalability.\\nMachine Failure Prediction /github |Azure Machine Learning September 2023\\n•Conducted an extensive investigation of a Milling machine to enhance operational reliability.\\n•Conceived 97% recall rate for predicting machine failures using logistic regression and SMOTE.\\n•Managed in Azure Designer for comprehensive data analysis and predictive modeling.\\nData Driven Model for Anomaly Detection and Path Prediction |Python, Deep Learning July 2022 - April 2023\\n•Investigated and improved AIS for cargo vessel anomaly detection and path prediction.\\n•Formulated a statistical method for robust anomaly detection.', metadata={'source': 'data\\\\resume.pdf', 'page': 0})]"
      ]
     },
     "execution_count": 304,
     "metadata": {},
     "output_type": "execute_result"
    }
   ],
   "source": [
    "# t"
   ]
  },
  {
   "cell_type": "code",
   "execution_count": 306,
   "metadata": {},
   "outputs": [
    {
     "data": {
      "text/plain": [
       "Document(page_content='Shyam Sundar\\n5,kavimani steet, Pankajam colony, 3rd cross street, Madurai, India - 625009\\n♂phone+91-9080765574 /envel⌢pemailshyamsundar.2022@gmail.com /linkedinshyamsundar007 /githubShyam-Sundar-7♂laptopPortfolio\\nProjects\\nLLM-Powered Coupon Recommender /github/video |Python, Streamlit, Langchain, OpenAI November 2023\\n•Developed a QA system for e-commerce with personalized coupon recommendations using OpenAI’s LLMs.\\n•Streamlined user interactions through a Streamlit interface and Langchain for real-world scenario simulations.\\n•Incorporated FAISS for refined recommendation processes.\\nPeopleCare Insurance Prediction /github |Python, Jupyter, Azure Cloud, Flask, Docker October 2023\\n•Expanded PeopleCare into vehicle insurance with a predictive model for effective customer targeting.\\n•Thorough analysis of customer behavior and data cleaning for accurate predictive modeling.\\n•Achieved 80% prediction accuracy using LightGBM.', metadata={'source': 'data\\\\resume.pdf', 'page': 0})"
      ]
     },
     "execution_count": 306,
     "metadata": {},
     "output_type": "execute_result"
    }
   ],
   "source": [
    "# t[0]"
   ]
  },
  {
   "cell_type": "markdown",
   "metadata": {},
   "source": [
    "# KEYWORDS BM25"
   ]
  },
  {
   "cell_type": "code",
   "execution_count": 334,
   "metadata": {},
   "outputs": [],
   "source": [
    "def keyword_extractor():\n",
    "    prompt=\"\"\"\n",
    "    You are an AI language model assistant. Your task is to help the user retrieve keywords from their query. \n",
    "\n",
    "    Please provide me with the keywords you would like to extract from your query. \n",
    "\n",
    "    Keywords: {keywords}\n",
    "    \"\"\"\n",
    "    prompt_perspectives=ChatPromptTemplate.from_template(prompt)\n",
    "    generate_querie = (\n",
    "        prompt_perspectives \n",
    "        | ChatOpenAI(temperature=0) \n",
    "        | StrOutputParser() )\n",
    "    return generate_querie"
   ]
  },
  {
   "cell_type": "code",
   "execution_count": 335,
   "metadata": {},
   "outputs": [],
   "source": [
    "from langchain_community.retrievers import BM25Retriever\n",
    "Bm25_retriever = BM25Retriever.from_documents(chunks)\n",
    "Bm25_retriever.k = 10"
   ]
  },
  {
   "cell_type": "code",
   "execution_count": 336,
   "metadata": {},
   "outputs": [],
   "source": [
    "from langchain.retrievers import EnsembleRetriever\n",
    "ensemble_retriever = EnsembleRetriever(\n",
    "    retrievers=[Bm25_retriever, map_chain], weights=[0.5, 0.5]\n",
    ")"
   ]
  },
  {
   "cell_type": "code",
   "execution_count": 337,
   "metadata": {},
   "outputs": [],
   "source": [
    "# final=ensemble_retriever.invoke(Query)"
   ]
  },
  {
   "cell_type": "code",
   "execution_count": 338,
   "metadata": {},
   "outputs": [
    {
     "data": {
      "text/plain": [
       "[Document(page_content='Shyam Sundar\\n5,kavimani steet, Pankajam colony, 3rd cross street, Madurai, India - 625009\\n♂phone+91-9080765574 /envel⌢pemailshyamsundar.2022@gmail.com /linkedinshyamsundar007 /githubShyam-Sundar-7♂laptopPortfolio\\nProjects\\nLLM-Powered Coupon Recommender /github/video |Python, Streamlit, Langchain, OpenAI November 2023\\n•Developed a QA system for e-commerce with personalized coupon recommendations using OpenAI’s LLMs.\\n•Streamlined user interactions through a Streamlit interface and Langchain for real-world scenario simulations.\\n•Incorporated FAISS for refined recommendation processes.\\nPeopleCare Insurance Prediction /github |Python, Jupyter, Azure Cloud, Flask, Docker October 2023\\n•Expanded PeopleCare into vehicle insurance with a predictive model for effective customer targeting.\\n•Thorough analysis of customer behavior and data cleaning for accurate predictive modeling.\\n•Achieved 80% prediction accuracy using LightGBM.', metadata={'source': 'data\\\\resume.pdf', 'page': 0}),\n",
       " Document(page_content='Relevant Coursework\\n•Data Structures\\n•Advanced Numerical Techniques•Machine Learning\\n•Data Science•Deep Learning\\n•Computer Graphics\\nTechnical Skills\\nLanguages : Python, C/C++, SQL (Postgres), Matlab, Latex\\nFrameworks : Pytorch, Tensorflow, Flask, Pytorch Lightning\\nTools/Platform : Tableau, Power Bi, Azure, Git, Jupyter, Docker\\nLibraries : Scikit-Learn, Pandas, Numpy, Matplotlib, Seaborn\\nCertifications\\n•Certified Associate Data Analyst\\n•SQL [Advanced] - Hackerank\\n•Management Consulting Mentorship\\n•Generative AI at SAP•ML for Business professionals using No-Code AI tools\\n•Python [Basic] - Hackerank\\n•Software Engineer Intern -Hackerank\\nPublications\\nSuspicious Event Detection of Cargo Vessels Based on AIS Data at ICDMAI,2023', metadata={'source': 'data\\\\resume.pdf', 'page': 0}),\n",
       " Document(page_content='•Engineered a path prediction algorithm using a sequence-to-sequence model with an attention mechanism.\\nFederated Learning on Multiclass classification |Python, Deep Learning, Jupyter Notebook June 2022 - July 2022\\n•Utilized the CIFAR dataset for training, involving 20 client nodes with training activities based on the VGG-19 model.\\n•Central global model collected weight updates from six randomly selected client models, averaging the contributions, and\\ndisseminated the updated global model to all participating clients.\\n•Effected a commendable accuracy rate of 78% upon successful completion of the training process, demonstrating the effectiveness\\nof the federated learning approach in preserving data security and privacy while maintaining model performance.\\nEducation\\nDefence Institute of Advanced Technology Pune, IN\\nM.Tech in Modelling and Simulation, GPA: 7.95 May 2023\\nNational Institute of Technology Tiruchirappalli, IN\\nB.Tech in Chemical Engineering, GPA: 7.65 May 2021', metadata={'source': 'data\\\\resume.pdf', 'page': 0}),\n",
       " Document(page_content='Hate Speech Prediction /github |Python, Pytorch Lightning, Flask, Docker October 2023\\n•Developed a robust hate speech detection algorithm for content filtration.\\n•Attained 91.95% accuracy with fine-tuned pre-existing Bert model.\\n•Executed model deployment via Flask and Docker for scalability.\\nMachine Failure Prediction /github |Azure Machine Learning September 2023\\n•Conducted an extensive investigation of a Milling machine to enhance operational reliability.\\n•Conceived 97% recall rate for predicting machine failures using logistic regression and SMOTE.\\n•Managed in Azure Designer for comprehensive data analysis and predictive modeling.\\nData Driven Model for Anomaly Detection and Path Prediction |Python, Deep Learning July 2022 - April 2023\\n•Investigated and improved AIS for cargo vessel anomaly detection and path prediction.\\n•Formulated a statistical method for robust anomaly detection.', metadata={'source': 'data\\\\resume.pdf', 'page': 0})]"
      ]
     },
     "execution_count": 338,
     "metadata": {},
     "output_type": "execute_result"
    }
   ],
   "source": [
    "# final"
   ]
  },
  {
   "cell_type": "code",
   "execution_count": 339,
   "metadata": {},
   "outputs": [],
   "source": [
    "def pretty_print_docs(docs):\n",
    "    print(\n",
    "        f\"\\n{'-' * 100}\\n\".join(\n",
    "            [f\"Document {i+1}:\\n\\n\" + d.page_content for i, d in enumerate(docs)]\n",
    "        )\n",
    "    )"
   ]
  },
  {
   "cell_type": "code",
   "execution_count": 344,
   "metadata": {},
   "outputs": [
    {
     "name": "stderr",
     "output_type": "stream",
     "text": [
      "c:\\Users\\shyams\\Downloads\\RAG\\.venv\\Lib\\site-packages\\huggingface_hub\\file_download.py:1132: FutureWarning: `resume_download` is deprecated and will be removed in version 1.0.0. Downloads always resume when possible. If you want to force a new download, use `force_download=True`.\n",
      "  warnings.warn(\n"
     ]
    }
   ],
   "source": [
    "from langchain.retrievers import ContextualCompressionRetriever\n",
    "from langchain.retrievers.document_compressors import CrossEncoderReranker\n",
    "from langchain_community.cross_encoders import HuggingFaceCrossEncoder\n",
    "\n",
    "model = HuggingFaceCrossEncoder(model_name=\"cross-encoder/ms-marco-MiniLM-L-6-v2\")\n",
    "compressor = CrossEncoderReranker(model=model, top_n=3)\n",
    "compression_retriever = ContextualCompressionRetriever(\n",
    "    base_compressor=compressor, base_retriever=ensemble_retriever\n",
    ")\n",
    "\n",
    "# compressed_docs = compression_retriever.invoke(Query)\n",
    "# pretty_print_docs(compressed_docs)"
   ]
  },
  {
   "cell_type": "code",
   "execution_count": 341,
   "metadata": {},
   "outputs": [],
   "source": [
    "final_prompt=\"\"\"You are an assistant for question-answering tasks. Use the following pieces of retrieved context to answer the question. If you don't know the answer, just say that you don't know. Use three sentences maximum and keep the answer concise.\n",
    "Question: {question} \n",
    "Context: {context} \n",
    "Answer:\"\"\"\n",
    "\n",
    "final_prompt_perspectives=ChatPromptTemplate.from_template(final_prompt)"
   ]
  },
  {
   "cell_type": "code",
   "execution_count": 342,
   "metadata": {},
   "outputs": [],
   "source": [
    "llm_chain = final_prompt_perspectives | ChatOpenAI(temperature=0) | StrOutputParser()"
   ]
  },
  {
   "cell_type": "code",
   "execution_count": 353,
   "metadata": {},
   "outputs": [],
   "source": [
    "from operator import itemgetter\n",
    "llm_chain2=({\"context\": itemgetter(\"query\") | compression_retriever,\n",
    "              \"question\":itemgetter(\"query\")}\n",
    "             | final_prompt_perspectives\n",
    "             | ChatOpenAI(temperature=0) | StrOutputParser() )"
   ]
  },
  {
   "cell_type": "code",
   "execution_count": 354,
   "metadata": {},
   "outputs": [
    {
     "data": {
      "text/plain": [
       "'Shyam has a B.Tech in Chemical Engineering from the National Institute of Technology Tiruchirappalli with a GPA of 7.65 in May 2021 and an M.Tech in Modelling and Simulation from the Defence Institute of Advanced Technology Pune with a GPA of 7.95 in May 2023.'"
      ]
     },
     "execution_count": 354,
     "metadata": {},
     "output_type": "execute_result"
    }
   ],
   "source": [
    "llm_chain2.invoke({\"query\":Query})"
   ]
  },
  {
   "cell_type": "code",
   "execution_count": 1,
   "metadata": {},
   "outputs": [
    {
     "name": "stdout",
     "output_type": "stream",
     "text": [
      "Collecting chromadb\n",
      "  Using cached chromadb-0.5.0-py3-none-any.whl.metadata (7.3 kB)\n",
      "Collecting build>=1.0.3 (from chromadb)\n",
      "  Using cached build-1.2.1-py3-none-any.whl.metadata (4.3 kB)\n",
      "Requirement already satisfied: requests>=2.28 in c:\\users\\shyams\\downloads\\rag\\.venv\\lib\\site-packages (from chromadb) (2.31.0)\n",
      "Requirement already satisfied: pydantic>=1.9 in c:\\users\\shyams\\downloads\\rag\\.venv\\lib\\site-packages (from chromadb) (2.7.1)\n",
      "Collecting chroma-hnswlib==0.7.3 (from chromadb)\n",
      "  Using cached chroma-hnswlib-0.7.3.tar.gz (31 kB)\n",
      "  Installing build dependencies: started\n",
      "  Installing build dependencies: finished with status 'done'\n",
      "  Getting requirements to build wheel: started\n",
      "  Getting requirements to build wheel: finished with status 'done'\n",
      "  Preparing metadata (pyproject.toml): started\n",
      "  Preparing metadata (pyproject.toml): finished with status 'done'\n",
      "Collecting fastapi>=0.95.2 (from chromadb)\n",
      "  Using cached fastapi-0.111.0-py3-none-any.whl.metadata (25 kB)\n",
      "Collecting uvicorn>=0.18.3 (from uvicorn[standard]>=0.18.3->chromadb)\n",
      "  Using cached uvicorn-0.29.0-py3-none-any.whl.metadata (6.3 kB)\n",
      "Requirement already satisfied: numpy>=1.22.5 in c:\\users\\shyams\\downloads\\rag\\.venv\\lib\\site-packages (from chromadb) (1.26.4)\n",
      "Collecting posthog>=2.4.0 (from chromadb)\n",
      "  Using cached posthog-3.5.0-py2.py3-none-any.whl.metadata (2.0 kB)\n",
      "Requirement already satisfied: typing-extensions>=4.5.0 in c:\\users\\shyams\\downloads\\rag\\.venv\\lib\\site-packages (from chromadb) (4.11.0)\n",
      "Collecting onnxruntime>=1.14.1 (from chromadb)\n",
      "  Using cached onnxruntime-1.17.3-cp312-cp312-win_amd64.whl.metadata (4.6 kB)\n",
      "Collecting opentelemetry-api>=1.2.0 (from chromadb)\n",
      "  Using cached opentelemetry_api-1.24.0-py3-none-any.whl.metadata (1.3 kB)\n",
      "Collecting opentelemetry-exporter-otlp-proto-grpc>=1.2.0 (from chromadb)\n",
      "  Using cached opentelemetry_exporter_otlp_proto_grpc-1.24.0-py3-none-any.whl.metadata (2.2 kB)\n",
      "Collecting opentelemetry-instrumentation-fastapi>=0.41b0 (from chromadb)\n",
      "  Using cached opentelemetry_instrumentation_fastapi-0.45b0-py3-none-any.whl.metadata (2.0 kB)\n",
      "Collecting opentelemetry-sdk>=1.2.0 (from chromadb)\n",
      "  Using cached opentelemetry_sdk-1.24.0-py3-none-any.whl.metadata (1.4 kB)\n",
      "Requirement already satisfied: tokenizers>=0.13.2 in c:\\users\\shyams\\downloads\\rag\\.venv\\lib\\site-packages (from chromadb) (0.19.1)\n",
      "Collecting pypika>=0.48.9 (from chromadb)\n",
      "  Using cached PyPika-0.48.9-py2.py3-none-any.whl\n",
      "Requirement already satisfied: tqdm>=4.65.0 in c:\\users\\shyams\\downloads\\rag\\.venv\\lib\\site-packages (from chromadb) (4.66.4)\n",
      "Collecting overrides>=7.3.1 (from chromadb)\n",
      "  Using cached overrides-7.7.0-py3-none-any.whl.metadata (5.8 kB)\n",
      "Collecting importlib-resources (from chromadb)\n",
      "  Using cached importlib_resources-6.4.0-py3-none-any.whl.metadata (3.9 kB)\n",
      "Collecting grpcio>=1.58.0 (from chromadb)\n",
      "  Using cached grpcio-1.63.0-cp312-cp312-win_amd64.whl.metadata (3.3 kB)\n",
      "Collecting bcrypt>=4.0.1 (from chromadb)\n",
      "  Using cached bcrypt-4.1.3-cp39-abi3-win_amd64.whl.metadata (9.8 kB)\n",
      "Collecting typer>=0.9.0 (from chromadb)\n",
      "  Using cached typer-0.12.3-py3-none-any.whl.metadata (15 kB)\n",
      "Collecting kubernetes>=28.1.0 (from chromadb)\n",
      "  Using cached kubernetes-29.0.0-py2.py3-none-any.whl.metadata (1.5 kB)\n",
      "Requirement already satisfied: tenacity>=8.2.3 in c:\\users\\shyams\\downloads\\rag\\.venv\\lib\\site-packages (from chromadb) (8.3.0)\n",
      "Requirement already satisfied: PyYAML>=6.0.0 in c:\\users\\shyams\\downloads\\rag\\.venv\\lib\\site-packages (from chromadb) (6.0.1)\n",
      "Collecting mmh3>=4.0.1 (from chromadb)\n",
      "  Using cached mmh3-4.1.0-cp312-cp312-win_amd64.whl.metadata (13 kB)\n",
      "Requirement already satisfied: orjson>=3.9.12 in c:\\users\\shyams\\downloads\\rag\\.venv\\lib\\site-packages (from chromadb) (3.10.3)\n",
      "Requirement already satisfied: packaging>=19.1 in c:\\users\\shyams\\downloads\\rag\\.venv\\lib\\site-packages (from build>=1.0.3->chromadb) (23.2)\n",
      "Collecting pyproject_hooks (from build>=1.0.3->chromadb)\n",
      "  Using cached pyproject_hooks-1.1.0-py3-none-any.whl.metadata (1.3 kB)\n",
      "Requirement already satisfied: colorama in c:\\users\\shyams\\downloads\\rag\\.venv\\lib\\site-packages (from build>=1.0.3->chromadb) (0.4.6)\n",
      "Collecting starlette<0.38.0,>=0.37.2 (from fastapi>=0.95.2->chromadb)\n",
      "  Using cached starlette-0.37.2-py3-none-any.whl.metadata (5.9 kB)\n",
      "Collecting fastapi-cli>=0.0.2 (from fastapi>=0.95.2->chromadb)\n",
      "  Using cached fastapi_cli-0.0.3-py3-none-any.whl.metadata (7.0 kB)\n",
      "Requirement already satisfied: httpx>=0.23.0 in c:\\users\\shyams\\downloads\\rag\\.venv\\lib\\site-packages (from fastapi>=0.95.2->chromadb) (0.27.0)\n",
      "Requirement already satisfied: jinja2>=2.11.2 in c:\\users\\shyams\\downloads\\rag\\.venv\\lib\\site-packages (from fastapi>=0.95.2->chromadb) (3.1.4)\n",
      "Collecting python-multipart>=0.0.7 (from fastapi>=0.95.2->chromadb)\n",
      "  Using cached python_multipart-0.0.9-py3-none-any.whl.metadata (2.5 kB)\n",
      "Requirement already satisfied: ujson!=4.0.2,!=4.1.0,!=4.2.0,!=4.3.0,!=5.0.0,!=5.1.0,>=4.0.1 in c:\\users\\shyams\\downloads\\rag\\.venv\\lib\\site-packages (from fastapi>=0.95.2->chromadb) (5.9.0)\n",
      "Collecting email_validator>=2.0.0 (from fastapi>=0.95.2->chromadb)\n",
      "  Using cached email_validator-2.1.1-py3-none-any.whl.metadata (26 kB)\n",
      "Requirement already satisfied: certifi>=14.05.14 in c:\\users\\shyams\\downloads\\rag\\.venv\\lib\\site-packages (from kubernetes>=28.1.0->chromadb) (2024.2.2)\n",
      "Requirement already satisfied: six>=1.9.0 in c:\\users\\shyams\\downloads\\rag\\.venv\\lib\\site-packages (from kubernetes>=28.1.0->chromadb) (1.16.0)\n",
      "Requirement already satisfied: python-dateutil>=2.5.3 in c:\\users\\shyams\\downloads\\rag\\.venv\\lib\\site-packages (from kubernetes>=28.1.0->chromadb) (2.9.0.post0)\n",
      "Collecting google-auth>=1.0.1 (from kubernetes>=28.1.0->chromadb)\n",
      "  Using cached google_auth-2.29.0-py2.py3-none-any.whl.metadata (4.7 kB)\n",
      "Collecting websocket-client!=0.40.0,!=0.41.*,!=0.42.*,>=0.32.0 (from kubernetes>=28.1.0->chromadb)\n",
      "  Using cached websocket_client-1.8.0-py3-none-any.whl.metadata (8.0 kB)\n",
      "Collecting requests-oauthlib (from kubernetes>=28.1.0->chromadb)\n",
      "  Using cached requests_oauthlib-2.0.0-py2.py3-none-any.whl.metadata (11 kB)\n",
      "Collecting oauthlib>=3.2.2 (from kubernetes>=28.1.0->chromadb)\n",
      "  Using cached oauthlib-3.2.2-py3-none-any.whl.metadata (7.5 kB)\n",
      "Requirement already satisfied: urllib3>=1.24.2 in c:\\users\\shyams\\downloads\\rag\\.venv\\lib\\site-packages (from kubernetes>=28.1.0->chromadb) (2.2.1)\n",
      "Collecting coloredlogs (from onnxruntime>=1.14.1->chromadb)\n",
      "  Using cached coloredlogs-15.0.1-py2.py3-none-any.whl.metadata (12 kB)\n",
      "Collecting flatbuffers (from onnxruntime>=1.14.1->chromadb)\n",
      "  Using cached flatbuffers-24.3.25-py2.py3-none-any.whl.metadata (850 bytes)\n",
      "Requirement already satisfied: protobuf in c:\\users\\shyams\\downloads\\rag\\.venv\\lib\\site-packages (from onnxruntime>=1.14.1->chromadb) (4.25.3)\n",
      "Requirement already satisfied: sympy in c:\\users\\shyams\\downloads\\rag\\.venv\\lib\\site-packages (from onnxruntime>=1.14.1->chromadb) (1.12)\n",
      "Requirement already satisfied: deprecated>=1.2.6 in c:\\users\\shyams\\downloads\\rag\\.venv\\lib\\site-packages (from opentelemetry-api>=1.2.0->chromadb) (1.2.14)\n",
      "Collecting importlib-metadata<=7.0,>=6.0 (from opentelemetry-api>=1.2.0->chromadb)\n",
      "  Using cached importlib_metadata-7.0.0-py3-none-any.whl.metadata (4.9 kB)\n",
      "Collecting googleapis-common-protos~=1.52 (from opentelemetry-exporter-otlp-proto-grpc>=1.2.0->chromadb)\n",
      "  Using cached googleapis_common_protos-1.63.0-py2.py3-none-any.whl.metadata (1.5 kB)\n",
      "Collecting opentelemetry-exporter-otlp-proto-common==1.24.0 (from opentelemetry-exporter-otlp-proto-grpc>=1.2.0->chromadb)\n",
      "  Using cached opentelemetry_exporter_otlp_proto_common-1.24.0-py3-none-any.whl.metadata (1.7 kB)\n",
      "Collecting opentelemetry-proto==1.24.0 (from opentelemetry-exporter-otlp-proto-grpc>=1.2.0->chromadb)\n",
      "  Using cached opentelemetry_proto-1.24.0-py3-none-any.whl.metadata (2.2 kB)\n",
      "Collecting opentelemetry-instrumentation-asgi==0.45b0 (from opentelemetry-instrumentation-fastapi>=0.41b0->chromadb)\n",
      "  Using cached opentelemetry_instrumentation_asgi-0.45b0-py3-none-any.whl.metadata (1.9 kB)\n",
      "Collecting opentelemetry-instrumentation==0.45b0 (from opentelemetry-instrumentation-fastapi>=0.41b0->chromadb)\n",
      "  Using cached opentelemetry_instrumentation-0.45b0-py3-none-any.whl.metadata (6.1 kB)\n",
      "Collecting opentelemetry-semantic-conventions==0.45b0 (from opentelemetry-instrumentation-fastapi>=0.41b0->chromadb)\n",
      "  Using cached opentelemetry_semantic_conventions-0.45b0-py3-none-any.whl.metadata (2.2 kB)\n",
      "Collecting opentelemetry-util-http==0.45b0 (from opentelemetry-instrumentation-fastapi>=0.41b0->chromadb)\n",
      "  Using cached opentelemetry_util_http-0.45b0-py3-none-any.whl.metadata (2.4 kB)\n",
      "Collecting setuptools>=16.0 (from opentelemetry-instrumentation==0.45b0->opentelemetry-instrumentation-fastapi>=0.41b0->chromadb)\n",
      "  Using cached setuptools-69.5.1-py3-none-any.whl.metadata (6.2 kB)\n",
      "Requirement already satisfied: wrapt<2.0.0,>=1.0.0 in c:\\users\\shyams\\downloads\\rag\\.venv\\lib\\site-packages (from opentelemetry-instrumentation==0.45b0->opentelemetry-instrumentation-fastapi>=0.41b0->chromadb) (1.16.0)\n",
      "Collecting asgiref~=3.0 (from opentelemetry-instrumentation-asgi==0.45b0->opentelemetry-instrumentation-fastapi>=0.41b0->chromadb)\n",
      "  Using cached asgiref-3.8.1-py3-none-any.whl.metadata (9.3 kB)\n",
      "Collecting monotonic>=1.5 (from posthog>=2.4.0->chromadb)\n",
      "  Using cached monotonic-1.6-py2.py3-none-any.whl.metadata (1.5 kB)\n",
      "Collecting backoff>=1.10.0 (from posthog>=2.4.0->chromadb)\n",
      "  Using cached backoff-2.2.1-py3-none-any.whl.metadata (14 kB)\n",
      "Requirement already satisfied: annotated-types>=0.4.0 in c:\\users\\shyams\\downloads\\rag\\.venv\\lib\\site-packages (from pydantic>=1.9->chromadb) (0.6.0)\n",
      "Requirement already satisfied: pydantic-core==2.18.2 in c:\\users\\shyams\\downloads\\rag\\.venv\\lib\\site-packages (from pydantic>=1.9->chromadb) (2.18.2)\n",
      "Requirement already satisfied: charset-normalizer<4,>=2 in c:\\users\\shyams\\downloads\\rag\\.venv\\lib\\site-packages (from requests>=2.28->chromadb) (3.3.2)\n",
      "Requirement already satisfied: idna<4,>=2.5 in c:\\users\\shyams\\downloads\\rag\\.venv\\lib\\site-packages (from requests>=2.28->chromadb) (3.7)\n",
      "Requirement already satisfied: huggingface-hub<1.0,>=0.16.4 in c:\\users\\shyams\\downloads\\rag\\.venv\\lib\\site-packages (from tokenizers>=0.13.2->chromadb) (0.23.0)\n",
      "Requirement already satisfied: click>=8.0.0 in c:\\users\\shyams\\downloads\\rag\\.venv\\lib\\site-packages (from typer>=0.9.0->chromadb) (8.1.7)\n",
      "Collecting shellingham>=1.3.0 (from typer>=0.9.0->chromadb)\n",
      "  Using cached shellingham-1.5.4-py2.py3-none-any.whl.metadata (3.5 kB)\n",
      "Requirement already satisfied: rich>=10.11.0 in c:\\users\\shyams\\downloads\\rag\\.venv\\lib\\site-packages (from typer>=0.9.0->chromadb) (13.7.1)\n",
      "Requirement already satisfied: h11>=0.8 in c:\\users\\shyams\\downloads\\rag\\.venv\\lib\\site-packages (from uvicorn>=0.18.3->uvicorn[standard]>=0.18.3->chromadb) (0.14.0)\n",
      "Collecting httptools>=0.5.0 (from uvicorn[standard]>=0.18.3->chromadb)\n",
      "  Using cached httptools-0.6.1-cp312-cp312-win_amd64.whl.metadata (3.7 kB)\n",
      "Requirement already satisfied: python-dotenv>=0.13 in c:\\users\\shyams\\downloads\\rag\\.venv\\lib\\site-packages (from uvicorn[standard]>=0.18.3->chromadb) (1.0.1)\n",
      "Collecting watchfiles>=0.13 (from uvicorn[standard]>=0.18.3->chromadb)\n",
      "  Using cached watchfiles-0.21.0-cp312-none-win_amd64.whl.metadata (5.0 kB)\n",
      "Collecting websockets>=10.4 (from uvicorn[standard]>=0.18.3->chromadb)\n",
      "  Using cached websockets-12.0-cp312-cp312-win_amd64.whl.metadata (6.8 kB)\n",
      "Collecting dnspython>=2.0.0 (from email_validator>=2.0.0->fastapi>=0.95.2->chromadb)\n",
      "  Using cached dnspython-2.6.1-py3-none-any.whl.metadata (5.8 kB)\n",
      "Requirement already satisfied: cachetools<6.0,>=2.0.0 in c:\\users\\shyams\\downloads\\rag\\.venv\\lib\\site-packages (from google-auth>=1.0.1->kubernetes>=28.1.0->chromadb) (5.3.3)\n",
      "Collecting pyasn1-modules>=0.2.1 (from google-auth>=1.0.1->kubernetes>=28.1.0->chromadb)\n",
      "  Using cached pyasn1_modules-0.4.0-py3-none-any.whl.metadata (3.4 kB)\n",
      "Collecting rsa<5,>=3.1.4 (from google-auth>=1.0.1->kubernetes>=28.1.0->chromadb)\n",
      "  Using cached rsa-4.9-py3-none-any.whl.metadata (4.2 kB)\n",
      "Requirement already satisfied: anyio in c:\\users\\shyams\\downloads\\rag\\.venv\\lib\\site-packages (from httpx>=0.23.0->fastapi>=0.95.2->chromadb) (4.3.0)\n",
      "Requirement already satisfied: httpcore==1.* in c:\\users\\shyams\\downloads\\rag\\.venv\\lib\\site-packages (from httpx>=0.23.0->fastapi>=0.95.2->chromadb) (1.0.5)\n",
      "Requirement already satisfied: sniffio in c:\\users\\shyams\\downloads\\rag\\.venv\\lib\\site-packages (from httpx>=0.23.0->fastapi>=0.95.2->chromadb) (1.3.1)\n",
      "Requirement already satisfied: filelock in c:\\users\\shyams\\downloads\\rag\\.venv\\lib\\site-packages (from huggingface-hub<1.0,>=0.16.4->tokenizers>=0.13.2->chromadb) (3.14.0)\n",
      "Requirement already satisfied: fsspec>=2023.5.0 in c:\\users\\shyams\\downloads\\rag\\.venv\\lib\\site-packages (from huggingface-hub<1.0,>=0.16.4->tokenizers>=0.13.2->chromadb) (2024.3.1)\n",
      "Collecting zipp>=0.5 (from importlib-metadata<=7.0,>=6.0->opentelemetry-api>=1.2.0->chromadb)\n",
      "  Using cached zipp-3.18.1-py3-none-any.whl.metadata (3.5 kB)\n",
      "Requirement already satisfied: MarkupSafe>=2.0 in c:\\users\\shyams\\downloads\\rag\\.venv\\lib\\site-packages (from jinja2>=2.11.2->fastapi>=0.95.2->chromadb) (2.1.5)\n",
      "Requirement already satisfied: markdown-it-py>=2.2.0 in c:\\users\\shyams\\downloads\\rag\\.venv\\lib\\site-packages (from rich>=10.11.0->typer>=0.9.0->chromadb) (3.0.0)\n",
      "Requirement already satisfied: pygments<3.0.0,>=2.13.0 in c:\\users\\shyams\\downloads\\rag\\.venv\\lib\\site-packages (from rich>=10.11.0->typer>=0.9.0->chromadb) (2.18.0)\n",
      "Collecting humanfriendly>=9.1 (from coloredlogs->onnxruntime>=1.14.1->chromadb)\n",
      "  Using cached humanfriendly-10.0-py2.py3-none-any.whl.metadata (9.2 kB)\n",
      "Requirement already satisfied: mpmath>=0.19 in c:\\users\\shyams\\downloads\\rag\\.venv\\lib\\site-packages (from sympy->onnxruntime>=1.14.1->chromadb) (1.3.0)\n",
      "Collecting pyreadline3 (from humanfriendly>=9.1->coloredlogs->onnxruntime>=1.14.1->chromadb)\n",
      "  Using cached pyreadline3-3.4.1-py3-none-any.whl.metadata (2.0 kB)\n",
      "Requirement already satisfied: mdurl~=0.1 in c:\\users\\shyams\\downloads\\rag\\.venv\\lib\\site-packages (from markdown-it-py>=2.2.0->rich>=10.11.0->typer>=0.9.0->chromadb) (0.1.2)\n",
      "Collecting pyasn1<0.7.0,>=0.4.6 (from pyasn1-modules>=0.2.1->google-auth>=1.0.1->kubernetes>=28.1.0->chromadb)\n",
      "  Using cached pyasn1-0.6.0-py2.py3-none-any.whl.metadata (8.3 kB)\n",
      "Using cached chromadb-0.5.0-py3-none-any.whl (526 kB)\n",
      "Using cached bcrypt-4.1.3-cp39-abi3-win_amd64.whl (158 kB)\n",
      "Using cached build-1.2.1-py3-none-any.whl (21 kB)\n",
      "Using cached fastapi-0.111.0-py3-none-any.whl (91 kB)\n",
      "Using cached grpcio-1.63.0-cp312-cp312-win_amd64.whl (3.9 MB)\n",
      "Using cached kubernetes-29.0.0-py2.py3-none-any.whl (1.6 MB)\n",
      "Using cached mmh3-4.1.0-cp312-cp312-win_amd64.whl (31 kB)\n",
      "Using cached onnxruntime-1.17.3-cp312-cp312-win_amd64.whl (5.6 MB)\n",
      "Using cached opentelemetry_api-1.24.0-py3-none-any.whl (60 kB)\n",
      "Using cached opentelemetry_exporter_otlp_proto_grpc-1.24.0-py3-none-any.whl (18 kB)\n",
      "Using cached opentelemetry_exporter_otlp_proto_common-1.24.0-py3-none-any.whl (17 kB)\n",
      "Using cached opentelemetry_proto-1.24.0-py3-none-any.whl (50 kB)\n",
      "Using cached opentelemetry_instrumentation_fastapi-0.45b0-py3-none-any.whl (11 kB)\n",
      "Using cached opentelemetry_instrumentation-0.45b0-py3-none-any.whl (28 kB)\n",
      "Using cached opentelemetry_instrumentation_asgi-0.45b0-py3-none-any.whl (14 kB)\n",
      "Using cached opentelemetry_semantic_conventions-0.45b0-py3-none-any.whl (36 kB)\n",
      "Using cached opentelemetry_util_http-0.45b0-py3-none-any.whl (6.9 kB)\n",
      "Using cached opentelemetry_sdk-1.24.0-py3-none-any.whl (106 kB)\n",
      "Using cached overrides-7.7.0-py3-none-any.whl (17 kB)\n",
      "Using cached posthog-3.5.0-py2.py3-none-any.whl (41 kB)\n",
      "Using cached typer-0.12.3-py3-none-any.whl (47 kB)\n",
      "Using cached uvicorn-0.29.0-py3-none-any.whl (60 kB)\n",
      "Using cached importlib_resources-6.4.0-py3-none-any.whl (38 kB)\n",
      "Using cached backoff-2.2.1-py3-none-any.whl (15 kB)\n",
      "Using cached email_validator-2.1.1-py3-none-any.whl (30 kB)\n",
      "Using cached fastapi_cli-0.0.3-py3-none-any.whl (9.2 kB)\n",
      "Using cached google_auth-2.29.0-py2.py3-none-any.whl (189 kB)\n",
      "Using cached googleapis_common_protos-1.63.0-py2.py3-none-any.whl (229 kB)\n",
      "Using cached httptools-0.6.1-cp312-cp312-win_amd64.whl (55 kB)\n",
      "Using cached importlib_metadata-7.0.0-py3-none-any.whl (23 kB)\n",
      "Using cached monotonic-1.6-py2.py3-none-any.whl (8.2 kB)\n",
      "Using cached oauthlib-3.2.2-py3-none-any.whl (151 kB)\n",
      "Using cached python_multipart-0.0.9-py3-none-any.whl (22 kB)\n",
      "Using cached shellingham-1.5.4-py2.py3-none-any.whl (9.8 kB)\n",
      "Using cached starlette-0.37.2-py3-none-any.whl (71 kB)\n",
      "Using cached watchfiles-0.21.0-cp312-none-win_amd64.whl (280 kB)\n",
      "Using cached websocket_client-1.8.0-py3-none-any.whl (58 kB)\n",
      "Using cached websockets-12.0-cp312-cp312-win_amd64.whl (124 kB)\n",
      "Using cached coloredlogs-15.0.1-py2.py3-none-any.whl (46 kB)\n",
      "Using cached flatbuffers-24.3.25-py2.py3-none-any.whl (26 kB)\n",
      "Using cached pyproject_hooks-1.1.0-py3-none-any.whl (9.2 kB)\n",
      "Using cached requests_oauthlib-2.0.0-py2.py3-none-any.whl (24 kB)\n",
      "Using cached asgiref-3.8.1-py3-none-any.whl (23 kB)\n",
      "Using cached dnspython-2.6.1-py3-none-any.whl (307 kB)\n",
      "Using cached humanfriendly-10.0-py2.py3-none-any.whl (86 kB)\n",
      "Using cached pyasn1_modules-0.4.0-py3-none-any.whl (181 kB)\n",
      "Using cached rsa-4.9-py3-none-any.whl (34 kB)\n",
      "Using cached setuptools-69.5.1-py3-none-any.whl (894 kB)\n",
      "Using cached zipp-3.18.1-py3-none-any.whl (8.2 kB)\n",
      "Using cached pyasn1-0.6.0-py2.py3-none-any.whl (85 kB)\n",
      "Using cached pyreadline3-3.4.1-py3-none-any.whl (95 kB)\n",
      "Building wheels for collected packages: chroma-hnswlib\n",
      "  Building wheel for chroma-hnswlib (pyproject.toml): started\n",
      "  Building wheel for chroma-hnswlib (pyproject.toml): finished with status 'done'\n",
      "  Created wheel for chroma-hnswlib: filename=chroma_hnswlib-0.7.3-cp312-cp312-win_amd64.whl size=153685 sha256=f42e193ebfbf4889e85be069899e53f9f2fc79426766289c46f331e40c1d5014\n",
      "  Stored in directory: c:\\users\\shyams\\appdata\\local\\pip\\cache\\wheels\\6d\\14\\b5\\68c4f2e056600c0348a94efba92dc975686ab72b714e0ca3d6\n",
      "Successfully built chroma-hnswlib\n",
      "Installing collected packages: pyreadline3, pypika, monotonic, mmh3, flatbuffers, zipp, websockets, websocket-client, shellingham, setuptools, python-multipart, pyproject_hooks, pyasn1, overrides, opentelemetry-util-http, opentelemetry-semantic-conventions, opentelemetry-proto, oauthlib, importlib-resources, humanfriendly, httptools, grpcio, googleapis-common-protos, dnspython, chroma-hnswlib, bcrypt, backoff, asgiref, watchfiles, uvicorn, starlette, rsa, requests-oauthlib, pyasn1-modules, posthog, opentelemetry-exporter-otlp-proto-common, importlib-metadata, email_validator, coloredlogs, build, typer, opentelemetry-api, onnxruntime, google-auth, opentelemetry-sdk, opentelemetry-instrumentation, kubernetes, opentelemetry-instrumentation-asgi, opentelemetry-exporter-otlp-proto-grpc, opentelemetry-instrumentation-fastapi, fastapi-cli, fastapi, chromadb\n",
      "Successfully installed asgiref-3.8.1 backoff-2.2.1 bcrypt-4.1.3 build-1.2.1 chroma-hnswlib-0.7.3 chromadb-0.5.0 coloredlogs-15.0.1 dnspython-2.6.1 email_validator-2.1.1 fastapi-0.111.0 fastapi-cli-0.0.3 flatbuffers-24.3.25 google-auth-2.29.0 googleapis-common-protos-1.63.0 grpcio-1.63.0 httptools-0.6.1 humanfriendly-10.0 importlib-metadata-7.0.0 importlib-resources-6.4.0 kubernetes-29.0.0 mmh3-4.1.0 monotonic-1.6 oauthlib-3.2.2 onnxruntime-1.17.3 opentelemetry-api-1.24.0 opentelemetry-exporter-otlp-proto-common-1.24.0 opentelemetry-exporter-otlp-proto-grpc-1.24.0 opentelemetry-instrumentation-0.45b0 opentelemetry-instrumentation-asgi-0.45b0 opentelemetry-instrumentation-fastapi-0.45b0 opentelemetry-proto-1.24.0 opentelemetry-sdk-1.24.0 opentelemetry-semantic-conventions-0.45b0 opentelemetry-util-http-0.45b0 overrides-7.7.0 posthog-3.5.0 pyasn1-0.6.0 pyasn1-modules-0.4.0 pypika-0.48.9 pyproject_hooks-1.1.0 pyreadline3-3.4.1 python-multipart-0.0.9 requests-oauthlib-2.0.0 rsa-4.9 setuptools-69.5.1 shellingham-1.5.4 starlette-0.37.2 typer-0.12.3 uvicorn-0.29.0 watchfiles-0.21.0 websocket-client-1.8.0 websockets-12.0 zipp-3.18.1\n"
     ]
    }
   ],
   "source": [
    "!pip install chromadb"
   ]
  },
  {
   "cell_type": "code",
   "execution_count": null,
   "metadata": {},
   "outputs": [],
   "source": []
  }
 ],
 "metadata": {
  "kernelspec": {
   "display_name": ".venv",
   "language": "python",
   "name": "python3"
  },
  "language_info": {
   "codemirror_mode": {
    "name": "ipython",
    "version": 3
   },
   "file_extension": ".py",
   "mimetype": "text/x-python",
   "name": "python",
   "nbconvert_exporter": "python",
   "pygments_lexer": "ipython3",
   "version": "3.12.3"
  }
 },
 "nbformat": 4,
 "nbformat_minor": 2
}
