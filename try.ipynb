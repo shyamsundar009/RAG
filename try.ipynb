{
 "cells": [
  {
   "cell_type": "code",
   "execution_count": 277,
   "metadata": {},
   "outputs": [],
   "source": [
    "Query=\"What are all the education qualification of shyam?\""
   ]
  },
  {
   "cell_type": "code",
   "execution_count": 278,
   "metadata": {},
   "outputs": [
    {
     "data": {
      "text/plain": [
       "True"
      ]
     },
     "execution_count": 278,
     "metadata": {},
     "output_type": "execute_result"
    }
   ],
   "source": [
    "from dotenv import load_dotenv\n",
    "\n",
    "load_dotenv()\n"
   ]
  },
  {
   "cell_type": "code",
   "execution_count": 295,
   "metadata": {},
   "outputs": [],
   "source": [
    "import os\n",
    "from langchain.text_splitter import RecursiveCharacterTextSplitter\n",
    "from langchain.document_loaders import PyPDFLoader\n",
    "\n",
    "def process_pdf_batch(pdf_file):\n",
    "    loader = PyPDFLoader(pdf_file)\n",
    "    pages = loader.load_and_split()\n",
    "    character_splitter = RecursiveCharacterTextSplitter(\n",
    "        chunk_size=1000,\n",
    "        chunk_overlap=0\n",
    "        )\n",
    "    pages = character_splitter.split_documents(pages)\n",
    "    return pages"
   ]
  },
  {
   "cell_type": "code",
   "execution_count": 296,
   "metadata": {},
   "outputs": [],
   "source": [
    "d=\"resume\""
   ]
  },
  {
   "cell_type": "code",
   "execution_count": 297,
   "metadata": {},
   "outputs": [
    {
     "name": "stderr",
     "output_type": "stream",
     "text": [
      "<string>:1: SyntaxWarning: invalid escape sequence '\\{'\n",
      "<>:1: SyntaxWarning: invalid escape sequence '\\{'\n",
      "<string>:1: SyntaxWarning: invalid escape sequence '\\{'\n",
      "<>:1: SyntaxWarning: invalid escape sequence '\\{'\n",
      "C:\\Users\\shyams\\AppData\\Local\\Temp\\ipykernel_14848\\2212597078.py:1: SyntaxWarning: invalid escape sequence '\\{'\n",
      "  chunks=process_pdf_batch(f\"data\\{d}.pdf\")\n"
     ]
    }
   ],
   "source": [
    "chunks=process_pdf_batch(f\"data\\{d}.pdf\")"
   ]
  },
  {
   "cell_type": "code",
   "execution_count": 298,
   "metadata": {},
   "outputs": [],
   "source": [
    "from langchain_community.vectorstores import FAISS\n",
    "from langchain_openai import OpenAIEmbeddings\n",
    "if not os.path.exists(f\"my_index\"):\n",
    "    document_in_faiss = FAISS.from_documents(chunks, OpenAIEmbeddings())\n",
    "    document_in_faiss.save_local(f\"my_index\")"
   ]
  },
  {
   "cell_type": "code",
   "execution_count": 299,
   "metadata": {},
   "outputs": [],
   "source": [
    "document_in_faiss=FAISS.load_local(\"my_index\", OpenAIEmbeddings(),allow_dangerous_deserialization=True)\n",
    "faiss_retriever=document_in_faiss.as_retriever(search_kwargs={'k': 10})"
   ]
  },
  {
   "cell_type": "code",
   "execution_count": 300,
   "metadata": {},
   "outputs": [],
   "source": [
    "from langchain.prompts import ChatPromptTemplate\n",
    "from langchain_core.output_parsers import StrOutputParser\n",
    "from langchain_openai import ChatOpenAI\n",
    "from langchain.load import dumps, loads\n",
    "\n",
    "def generate_queries():\n",
    "        \n",
    "    # Multi Query: Different Perspectives\n",
    "    template = \"\"\"You are an AI language model assistant. Your task is to generate Four \n",
    "    different versions of the given user question to retrieve relevant documents from a vector \n",
    "    database. By generating multiple perspectives on the user question, your goal is to help\n",
    "    the user overcome some of the limitations of the distance-based similarity search. \n",
    "    Provide these alternative questions separated by newlines. Original question: {question}\"\"\"\n",
    "    prompt_perspectives = ChatPromptTemplate.from_template(template)\n",
    "\n",
    "\n",
    "    generate_querie = (\n",
    "        prompt_perspectives \n",
    "        | ChatOpenAI(temperature=0) \n",
    "        | StrOutputParser() \n",
    "        | (lambda x: x.split(\"\\n\"))\n",
    "    )\n",
    "    return generate_querie \n",
    "\n",
    "\n",
    "def get_unique_union(documents: list[list]):\n",
    "    \"\"\" Unique union of retrieved docs \"\"\"\n",
    "    # Flatten list of lists, and convert each Document to string\n",
    "    flattened_docs = [dumps(doc) for sublist in documents for doc in sublist]\n",
    "    # Get unique documents\n",
    "    unique_docs = list(set(flattened_docs))\n",
    "    # Return\n",
    "    return [loads(doc) for doc in unique_docs]\n",
    "\n",
    "\n",
    "def _get_docs(m):\n",
    "    docs=[]\n",
    "    docs.extend(m['original'])\n",
    "    for i in m['new']:\n",
    "        docs.extend(i)\n",
    "    return docs\n",
    "\n"
   ]
  },
  {
   "cell_type": "code",
   "execution_count": 301,
   "metadata": {},
   "outputs": [],
   "source": [
    "from langchain_core.runnables import RunnableParallel\n",
    "original_question= faiss_retriever\n",
    "retrieval_chain =  generate_queries() | faiss_retriever.map()\n",
    "map_chain = RunnableParallel(original=original_question,new=retrieval_chain) | _get_docs"
   ]
  },
  {
   "cell_type": "code",
   "execution_count": 302,
   "metadata": {},
   "outputs": [],
   "source": [
    "t=map_chain.invoke(Query)"
   ]
  },
  {
   "cell_type": "code",
   "execution_count": 303,
   "metadata": {},
   "outputs": [
    {
     "data": {
      "text/plain": [
       "20"
      ]
     },
     "execution_count": 303,
     "metadata": {},
     "output_type": "execute_result"
    }
   ],
   "source": [
    "len(t)"
   ]
  },
  {
   "cell_type": "code",
   "execution_count": 304,
   "metadata": {},
   "outputs": [
    {
     "data": {
      "text/plain": [
       "[Document(page_content='Shyam Sundar\\n5,kavimani steet, Pankajam colony, 3rd cross street, Madurai, India - 625009\\n♂phone+91-9080765574 /envel⌢pemailshyamsundar.2022@gmail.com /linkedinshyamsundar007 /githubShyam-Sundar-7♂laptopPortfolio\\nProjects\\nLLM-Powered Coupon Recommender /github/video |Python, Streamlit, Langchain, OpenAI November 2023\\n•Developed a QA system for e-commerce with personalized coupon recommendations using OpenAI’s LLMs.\\n•Streamlined user interactions through a Streamlit interface and Langchain for real-world scenario simulations.\\n•Incorporated FAISS for refined recommendation processes.\\nPeopleCare Insurance Prediction /github |Python, Jupyter, Azure Cloud, Flask, Docker October 2023\\n•Expanded PeopleCare into vehicle insurance with a predictive model for effective customer targeting.\\n•Thorough analysis of customer behavior and data cleaning for accurate predictive modeling.\\n•Achieved 80% prediction accuracy using LightGBM.', metadata={'source': 'data\\\\resume.pdf', 'page': 0}),\n",
       " Document(page_content='Relevant Coursework\\n•Data Structures\\n•Advanced Numerical Techniques•Machine Learning\\n•Data Science•Deep Learning\\n•Computer Graphics\\nTechnical Skills\\nLanguages : Python, C/C++, SQL (Postgres), Matlab, Latex\\nFrameworks : Pytorch, Tensorflow, Flask, Pytorch Lightning\\nTools/Platform : Tableau, Power Bi, Azure, Git, Jupyter, Docker\\nLibraries : Scikit-Learn, Pandas, Numpy, Matplotlib, Seaborn\\nCertifications\\n•Certified Associate Data Analyst\\n•SQL [Advanced] - Hackerank\\n•Management Consulting Mentorship\\n•Generative AI at SAP•ML for Business professionals using No-Code AI tools\\n•Python [Basic] - Hackerank\\n•Software Engineer Intern -Hackerank\\nPublications\\nSuspicious Event Detection of Cargo Vessels Based on AIS Data at ICDMAI,2023', metadata={'source': 'data\\\\resume.pdf', 'page': 0}),\n",
       " Document(page_content='•Engineered a path prediction algorithm using a sequence-to-sequence model with an attention mechanism.\\nFederated Learning on Multiclass classification |Python, Deep Learning, Jupyter Notebook June 2022 - July 2022\\n•Utilized the CIFAR dataset for training, involving 20 client nodes with training activities based on the VGG-19 model.\\n•Central global model collected weight updates from six randomly selected client models, averaging the contributions, and\\ndisseminated the updated global model to all participating clients.\\n•Effected a commendable accuracy rate of 78% upon successful completion of the training process, demonstrating the effectiveness\\nof the federated learning approach in preserving data security and privacy while maintaining model performance.\\nEducation\\nDefence Institute of Advanced Technology Pune, IN\\nM.Tech in Modelling and Simulation, GPA: 7.95 May 2023\\nNational Institute of Technology Tiruchirappalli, IN\\nB.Tech in Chemical Engineering, GPA: 7.65 May 2021', metadata={'source': 'data\\\\resume.pdf', 'page': 0}),\n",
       " Document(page_content='Hate Speech Prediction /github |Python, Pytorch Lightning, Flask, Docker October 2023\\n•Developed a robust hate speech detection algorithm for content filtration.\\n•Attained 91.95% accuracy with fine-tuned pre-existing Bert model.\\n•Executed model deployment via Flask and Docker for scalability.\\nMachine Failure Prediction /github |Azure Machine Learning September 2023\\n•Conducted an extensive investigation of a Milling machine to enhance operational reliability.\\n•Conceived 97% recall rate for predicting machine failures using logistic regression and SMOTE.\\n•Managed in Azure Designer for comprehensive data analysis and predictive modeling.\\nData Driven Model for Anomaly Detection and Path Prediction |Python, Deep Learning July 2022 - April 2023\\n•Investigated and improved AIS for cargo vessel anomaly detection and path prediction.\\n•Formulated a statistical method for robust anomaly detection.', metadata={'source': 'data\\\\resume.pdf', 'page': 0}),\n",
       " Document(page_content='Shyam Sundar\\n5,kavimani steet, Pankajam colony, 3rd cross street, Madurai, India - 625009\\n♂phone+91-9080765574 /envel⌢pemailshyamsundar.2022@gmail.com /linkedinshyamsundar007 /githubShyam-Sundar-7♂laptopPortfolio\\nProjects\\nLLM-Powered Coupon Recommender /github/video |Python, Streamlit, Langchain, OpenAI November 2023\\n•Developed a QA system for e-commerce with personalized coupon recommendations using OpenAI’s LLMs.\\n•Streamlined user interactions through a Streamlit interface and Langchain for real-world scenario simulations.\\n•Incorporated FAISS for refined recommendation processes.\\nPeopleCare Insurance Prediction /github |Python, Jupyter, Azure Cloud, Flask, Docker October 2023\\n•Expanded PeopleCare into vehicle insurance with a predictive model for effective customer targeting.\\n•Thorough analysis of customer behavior and data cleaning for accurate predictive modeling.\\n•Achieved 80% prediction accuracy using LightGBM.', metadata={'source': 'data\\\\resume.pdf', 'page': 0}),\n",
       " Document(page_content='Relevant Coursework\\n•Data Structures\\n•Advanced Numerical Techniques•Machine Learning\\n•Data Science•Deep Learning\\n•Computer Graphics\\nTechnical Skills\\nLanguages : Python, C/C++, SQL (Postgres), Matlab, Latex\\nFrameworks : Pytorch, Tensorflow, Flask, Pytorch Lightning\\nTools/Platform : Tableau, Power Bi, Azure, Git, Jupyter, Docker\\nLibraries : Scikit-Learn, Pandas, Numpy, Matplotlib, Seaborn\\nCertifications\\n•Certified Associate Data Analyst\\n•SQL [Advanced] - Hackerank\\n•Management Consulting Mentorship\\n•Generative AI at SAP•ML for Business professionals using No-Code AI tools\\n•Python [Basic] - Hackerank\\n•Software Engineer Intern -Hackerank\\nPublications\\nSuspicious Event Detection of Cargo Vessels Based on AIS Data at ICDMAI,2023', metadata={'source': 'data\\\\resume.pdf', 'page': 0}),\n",
       " Document(page_content='•Engineered a path prediction algorithm using a sequence-to-sequence model with an attention mechanism.\\nFederated Learning on Multiclass classification |Python, Deep Learning, Jupyter Notebook June 2022 - July 2022\\n•Utilized the CIFAR dataset for training, involving 20 client nodes with training activities based on the VGG-19 model.\\n•Central global model collected weight updates from six randomly selected client models, averaging the contributions, and\\ndisseminated the updated global model to all participating clients.\\n•Effected a commendable accuracy rate of 78% upon successful completion of the training process, demonstrating the effectiveness\\nof the federated learning approach in preserving data security and privacy while maintaining model performance.\\nEducation\\nDefence Institute of Advanced Technology Pune, IN\\nM.Tech in Modelling and Simulation, GPA: 7.95 May 2023\\nNational Institute of Technology Tiruchirappalli, IN\\nB.Tech in Chemical Engineering, GPA: 7.65 May 2021', metadata={'source': 'data\\\\resume.pdf', 'page': 0}),\n",
       " Document(page_content='Hate Speech Prediction /github |Python, Pytorch Lightning, Flask, Docker October 2023\\n•Developed a robust hate speech detection algorithm for content filtration.\\n•Attained 91.95% accuracy with fine-tuned pre-existing Bert model.\\n•Executed model deployment via Flask and Docker for scalability.\\nMachine Failure Prediction /github |Azure Machine Learning September 2023\\n•Conducted an extensive investigation of a Milling machine to enhance operational reliability.\\n•Conceived 97% recall rate for predicting machine failures using logistic regression and SMOTE.\\n•Managed in Azure Designer for comprehensive data analysis and predictive modeling.\\nData Driven Model for Anomaly Detection and Path Prediction |Python, Deep Learning July 2022 - April 2023\\n•Investigated and improved AIS for cargo vessel anomaly detection and path prediction.\\n•Formulated a statistical method for robust anomaly detection.', metadata={'source': 'data\\\\resume.pdf', 'page': 0}),\n",
       " Document(page_content='Shyam Sundar\\n5,kavimani steet, Pankajam colony, 3rd cross street, Madurai, India - 625009\\n♂phone+91-9080765574 /envel⌢pemailshyamsundar.2022@gmail.com /linkedinshyamsundar007 /githubShyam-Sundar-7♂laptopPortfolio\\nProjects\\nLLM-Powered Coupon Recommender /github/video |Python, Streamlit, Langchain, OpenAI November 2023\\n•Developed a QA system for e-commerce with personalized coupon recommendations using OpenAI’s LLMs.\\n•Streamlined user interactions through a Streamlit interface and Langchain for real-world scenario simulations.\\n•Incorporated FAISS for refined recommendation processes.\\nPeopleCare Insurance Prediction /github |Python, Jupyter, Azure Cloud, Flask, Docker October 2023\\n•Expanded PeopleCare into vehicle insurance with a predictive model for effective customer targeting.\\n•Thorough analysis of customer behavior and data cleaning for accurate predictive modeling.\\n•Achieved 80% prediction accuracy using LightGBM.', metadata={'source': 'data\\\\resume.pdf', 'page': 0}),\n",
       " Document(page_content='Relevant Coursework\\n•Data Structures\\n•Advanced Numerical Techniques•Machine Learning\\n•Data Science•Deep Learning\\n•Computer Graphics\\nTechnical Skills\\nLanguages : Python, C/C++, SQL (Postgres), Matlab, Latex\\nFrameworks : Pytorch, Tensorflow, Flask, Pytorch Lightning\\nTools/Platform : Tableau, Power Bi, Azure, Git, Jupyter, Docker\\nLibraries : Scikit-Learn, Pandas, Numpy, Matplotlib, Seaborn\\nCertifications\\n•Certified Associate Data Analyst\\n•SQL [Advanced] - Hackerank\\n•Management Consulting Mentorship\\n•Generative AI at SAP•ML for Business professionals using No-Code AI tools\\n•Python [Basic] - Hackerank\\n•Software Engineer Intern -Hackerank\\nPublications\\nSuspicious Event Detection of Cargo Vessels Based on AIS Data at ICDMAI,2023', metadata={'source': 'data\\\\resume.pdf', 'page': 0}),\n",
       " Document(page_content='•Engineered a path prediction algorithm using a sequence-to-sequence model with an attention mechanism.\\nFederated Learning on Multiclass classification |Python, Deep Learning, Jupyter Notebook June 2022 - July 2022\\n•Utilized the CIFAR dataset for training, involving 20 client nodes with training activities based on the VGG-19 model.\\n•Central global model collected weight updates from six randomly selected client models, averaging the contributions, and\\ndisseminated the updated global model to all participating clients.\\n•Effected a commendable accuracy rate of 78% upon successful completion of the training process, demonstrating the effectiveness\\nof the federated learning approach in preserving data security and privacy while maintaining model performance.\\nEducation\\nDefence Institute of Advanced Technology Pune, IN\\nM.Tech in Modelling and Simulation, GPA: 7.95 May 2023\\nNational Institute of Technology Tiruchirappalli, IN\\nB.Tech in Chemical Engineering, GPA: 7.65 May 2021', metadata={'source': 'data\\\\resume.pdf', 'page': 0}),\n",
       " Document(page_content='Hate Speech Prediction /github |Python, Pytorch Lightning, Flask, Docker October 2023\\n•Developed a robust hate speech detection algorithm for content filtration.\\n•Attained 91.95% accuracy with fine-tuned pre-existing Bert model.\\n•Executed model deployment via Flask and Docker for scalability.\\nMachine Failure Prediction /github |Azure Machine Learning September 2023\\n•Conducted an extensive investigation of a Milling machine to enhance operational reliability.\\n•Conceived 97% recall rate for predicting machine failures using logistic regression and SMOTE.\\n•Managed in Azure Designer for comprehensive data analysis and predictive modeling.\\nData Driven Model for Anomaly Detection and Path Prediction |Python, Deep Learning July 2022 - April 2023\\n•Investigated and improved AIS for cargo vessel anomaly detection and path prediction.\\n•Formulated a statistical method for robust anomaly detection.', metadata={'source': 'data\\\\resume.pdf', 'page': 0}),\n",
       " Document(page_content='Shyam Sundar\\n5,kavimani steet, Pankajam colony, 3rd cross street, Madurai, India - 625009\\n♂phone+91-9080765574 /envel⌢pemailshyamsundar.2022@gmail.com /linkedinshyamsundar007 /githubShyam-Sundar-7♂laptopPortfolio\\nProjects\\nLLM-Powered Coupon Recommender /github/video |Python, Streamlit, Langchain, OpenAI November 2023\\n•Developed a QA system for e-commerce with personalized coupon recommendations using OpenAI’s LLMs.\\n•Streamlined user interactions through a Streamlit interface and Langchain for real-world scenario simulations.\\n•Incorporated FAISS for refined recommendation processes.\\nPeopleCare Insurance Prediction /github |Python, Jupyter, Azure Cloud, Flask, Docker October 2023\\n•Expanded PeopleCare into vehicle insurance with a predictive model for effective customer targeting.\\n•Thorough analysis of customer behavior and data cleaning for accurate predictive modeling.\\n•Achieved 80% prediction accuracy using LightGBM.', metadata={'source': 'data\\\\resume.pdf', 'page': 0}),\n",
       " Document(page_content='Relevant Coursework\\n•Data Structures\\n•Advanced Numerical Techniques•Machine Learning\\n•Data Science•Deep Learning\\n•Computer Graphics\\nTechnical Skills\\nLanguages : Python, C/C++, SQL (Postgres), Matlab, Latex\\nFrameworks : Pytorch, Tensorflow, Flask, Pytorch Lightning\\nTools/Platform : Tableau, Power Bi, Azure, Git, Jupyter, Docker\\nLibraries : Scikit-Learn, Pandas, Numpy, Matplotlib, Seaborn\\nCertifications\\n•Certified Associate Data Analyst\\n•SQL [Advanced] - Hackerank\\n•Management Consulting Mentorship\\n•Generative AI at SAP•ML for Business professionals using No-Code AI tools\\n•Python [Basic] - Hackerank\\n•Software Engineer Intern -Hackerank\\nPublications\\nSuspicious Event Detection of Cargo Vessels Based on AIS Data at ICDMAI,2023', metadata={'source': 'data\\\\resume.pdf', 'page': 0}),\n",
       " Document(page_content='•Engineered a path prediction algorithm using a sequence-to-sequence model with an attention mechanism.\\nFederated Learning on Multiclass classification |Python, Deep Learning, Jupyter Notebook June 2022 - July 2022\\n•Utilized the CIFAR dataset for training, involving 20 client nodes with training activities based on the VGG-19 model.\\n•Central global model collected weight updates from six randomly selected client models, averaging the contributions, and\\ndisseminated the updated global model to all participating clients.\\n•Effected a commendable accuracy rate of 78% upon successful completion of the training process, demonstrating the effectiveness\\nof the federated learning approach in preserving data security and privacy while maintaining model performance.\\nEducation\\nDefence Institute of Advanced Technology Pune, IN\\nM.Tech in Modelling and Simulation, GPA: 7.95 May 2023\\nNational Institute of Technology Tiruchirappalli, IN\\nB.Tech in Chemical Engineering, GPA: 7.65 May 2021', metadata={'source': 'data\\\\resume.pdf', 'page': 0}),\n",
       " Document(page_content='Hate Speech Prediction /github |Python, Pytorch Lightning, Flask, Docker October 2023\\n•Developed a robust hate speech detection algorithm for content filtration.\\n•Attained 91.95% accuracy with fine-tuned pre-existing Bert model.\\n•Executed model deployment via Flask and Docker for scalability.\\nMachine Failure Prediction /github |Azure Machine Learning September 2023\\n•Conducted an extensive investigation of a Milling machine to enhance operational reliability.\\n•Conceived 97% recall rate for predicting machine failures using logistic regression and SMOTE.\\n•Managed in Azure Designer for comprehensive data analysis and predictive modeling.\\nData Driven Model for Anomaly Detection and Path Prediction |Python, Deep Learning July 2022 - April 2023\\n•Investigated and improved AIS for cargo vessel anomaly detection and path prediction.\\n•Formulated a statistical method for robust anomaly detection.', metadata={'source': 'data\\\\resume.pdf', 'page': 0}),\n",
       " Document(page_content='Shyam Sundar\\n5,kavimani steet, Pankajam colony, 3rd cross street, Madurai, India - 625009\\n♂phone+91-9080765574 /envel⌢pemailshyamsundar.2022@gmail.com /linkedinshyamsundar007 /githubShyam-Sundar-7♂laptopPortfolio\\nProjects\\nLLM-Powered Coupon Recommender /github/video |Python, Streamlit, Langchain, OpenAI November 2023\\n•Developed a QA system for e-commerce with personalized coupon recommendations using OpenAI’s LLMs.\\n•Streamlined user interactions through a Streamlit interface and Langchain for real-world scenario simulations.\\n•Incorporated FAISS for refined recommendation processes.\\nPeopleCare Insurance Prediction /github |Python, Jupyter, Azure Cloud, Flask, Docker October 2023\\n•Expanded PeopleCare into vehicle insurance with a predictive model for effective customer targeting.\\n•Thorough analysis of customer behavior and data cleaning for accurate predictive modeling.\\n•Achieved 80% prediction accuracy using LightGBM.', metadata={'source': 'data\\\\resume.pdf', 'page': 0}),\n",
       " Document(page_content='Relevant Coursework\\n•Data Structures\\n•Advanced Numerical Techniques•Machine Learning\\n•Data Science•Deep Learning\\n•Computer Graphics\\nTechnical Skills\\nLanguages : Python, C/C++, SQL (Postgres), Matlab, Latex\\nFrameworks : Pytorch, Tensorflow, Flask, Pytorch Lightning\\nTools/Platform : Tableau, Power Bi, Azure, Git, Jupyter, Docker\\nLibraries : Scikit-Learn, Pandas, Numpy, Matplotlib, Seaborn\\nCertifications\\n•Certified Associate Data Analyst\\n•SQL [Advanced] - Hackerank\\n•Management Consulting Mentorship\\n•Generative AI at SAP•ML for Business professionals using No-Code AI tools\\n•Python [Basic] - Hackerank\\n•Software Engineer Intern -Hackerank\\nPublications\\nSuspicious Event Detection of Cargo Vessels Based on AIS Data at ICDMAI,2023', metadata={'source': 'data\\\\resume.pdf', 'page': 0}),\n",
       " Document(page_content='•Engineered a path prediction algorithm using a sequence-to-sequence model with an attention mechanism.\\nFederated Learning on Multiclass classification |Python, Deep Learning, Jupyter Notebook June 2022 - July 2022\\n•Utilized the CIFAR dataset for training, involving 20 client nodes with training activities based on the VGG-19 model.\\n•Central global model collected weight updates from six randomly selected client models, averaging the contributions, and\\ndisseminated the updated global model to all participating clients.\\n•Effected a commendable accuracy rate of 78% upon successful completion of the training process, demonstrating the effectiveness\\nof the federated learning approach in preserving data security and privacy while maintaining model performance.\\nEducation\\nDefence Institute of Advanced Technology Pune, IN\\nM.Tech in Modelling and Simulation, GPA: 7.95 May 2023\\nNational Institute of Technology Tiruchirappalli, IN\\nB.Tech in Chemical Engineering, GPA: 7.65 May 2021', metadata={'source': 'data\\\\resume.pdf', 'page': 0}),\n",
       " Document(page_content='Hate Speech Prediction /github |Python, Pytorch Lightning, Flask, Docker October 2023\\n•Developed a robust hate speech detection algorithm for content filtration.\\n•Attained 91.95% accuracy with fine-tuned pre-existing Bert model.\\n•Executed model deployment via Flask and Docker for scalability.\\nMachine Failure Prediction /github |Azure Machine Learning September 2023\\n•Conducted an extensive investigation of a Milling machine to enhance operational reliability.\\n•Conceived 97% recall rate for predicting machine failures using logistic regression and SMOTE.\\n•Managed in Azure Designer for comprehensive data analysis and predictive modeling.\\nData Driven Model for Anomaly Detection and Path Prediction |Python, Deep Learning July 2022 - April 2023\\n•Investigated and improved AIS for cargo vessel anomaly detection and path prediction.\\n•Formulated a statistical method for robust anomaly detection.', metadata={'source': 'data\\\\resume.pdf', 'page': 0})]"
      ]
     },
     "execution_count": 304,
     "metadata": {},
     "output_type": "execute_result"
    }
   ],
   "source": [
    "t"
   ]
  },
  {
   "cell_type": "code",
   "execution_count": 306,
   "metadata": {},
   "outputs": [
    {
     "data": {
      "text/plain": [
       "Document(page_content='Shyam Sundar\\n5,kavimani steet, Pankajam colony, 3rd cross street, Madurai, India - 625009\\n♂phone+91-9080765574 /envel⌢pemailshyamsundar.2022@gmail.com /linkedinshyamsundar007 /githubShyam-Sundar-7♂laptopPortfolio\\nProjects\\nLLM-Powered Coupon Recommender /github/video |Python, Streamlit, Langchain, OpenAI November 2023\\n•Developed a QA system for e-commerce with personalized coupon recommendations using OpenAI’s LLMs.\\n•Streamlined user interactions through a Streamlit interface and Langchain for real-world scenario simulations.\\n•Incorporated FAISS for refined recommendation processes.\\nPeopleCare Insurance Prediction /github |Python, Jupyter, Azure Cloud, Flask, Docker October 2023\\n•Expanded PeopleCare into vehicle insurance with a predictive model for effective customer targeting.\\n•Thorough analysis of customer behavior and data cleaning for accurate predictive modeling.\\n•Achieved 80% prediction accuracy using LightGBM.', metadata={'source': 'data\\\\resume.pdf', 'page': 0})"
      ]
     },
     "execution_count": 306,
     "metadata": {},
     "output_type": "execute_result"
    }
   ],
   "source": [
    "t[0]"
   ]
  },
  {
   "cell_type": "markdown",
   "metadata": {},
   "source": [
    "# KEYWORDS BM25"
   ]
  },
  {
   "cell_type": "code",
   "execution_count": 307,
   "metadata": {},
   "outputs": [],
   "source": [
    "def keyword_extractor():\n",
    "    prompt=\"\"\"\n",
    "    You are an AI language model assistant. Your task is to help the user retrieve keywords from their query. \n",
    "\n",
    "    Please provide me with the keywords you would like to extract from your query. \n",
    "\n",
    "    Keywords: {keywords}\n",
    "    \"\"\"\n",
    "    prompt_perspectives=ChatPromptTemplate.from_template(prompt)\n",
    "    generate_querie = (\n",
    "        prompt_perspectives \n",
    "        | ChatOpenAI(temperature=0) \n",
    "        | StrOutputParser() )\n",
    "    return generate_querie"
   ]
  },
  {
   "cell_type": "code",
   "execution_count": 308,
   "metadata": {},
   "outputs": [],
   "source": [
    "from langchain_community.retrievers import BM25Retriever\n",
    "Bm25_retriever = BM25Retriever.from_documents(chunks)\n",
    "Bm25_retriever.k = 10"
   ]
  },
  {
   "cell_type": "code",
   "execution_count": 309,
   "metadata": {},
   "outputs": [],
   "source": [
    "from langchain.retrievers import EnsembleRetriever\n",
    "ensemble_retriever = EnsembleRetriever(\n",
    "    retrievers=[Bm25_retriever, map_chain], weights=[0.5, 0.5]\n",
    ")"
   ]
  },
  {
   "cell_type": "code",
   "execution_count": 310,
   "metadata": {},
   "outputs": [],
   "source": [
    "final=ensemble_retriever.invoke(Query)"
   ]
  },
  {
   "cell_type": "code",
   "execution_count": 311,
   "metadata": {},
   "outputs": [
    {
     "data": {
      "text/plain": [
       "[Document(page_content='Shyam Sundar\\n5,kavimani steet, Pankajam colony, 3rd cross street, Madurai, India - 625009\\n♂phone+91-9080765574 /envel⌢pemailshyamsundar.2022@gmail.com /linkedinshyamsundar007 /githubShyam-Sundar-7♂laptopPortfolio\\nProjects\\nLLM-Powered Coupon Recommender /github/video |Python, Streamlit, Langchain, OpenAI November 2023\\n•Developed a QA system for e-commerce with personalized coupon recommendations using OpenAI’s LLMs.\\n•Streamlined user interactions through a Streamlit interface and Langchain for real-world scenario simulations.\\n•Incorporated FAISS for refined recommendation processes.\\nPeopleCare Insurance Prediction /github |Python, Jupyter, Azure Cloud, Flask, Docker October 2023\\n•Expanded PeopleCare into vehicle insurance with a predictive model for effective customer targeting.\\n•Thorough analysis of customer behavior and data cleaning for accurate predictive modeling.\\n•Achieved 80% prediction accuracy using LightGBM.', metadata={'source': 'data\\\\resume.pdf', 'page': 0}),\n",
       " Document(page_content='Relevant Coursework\\n•Data Structures\\n•Advanced Numerical Techniques•Machine Learning\\n•Data Science•Deep Learning\\n•Computer Graphics\\nTechnical Skills\\nLanguages : Python, C/C++, SQL (Postgres), Matlab, Latex\\nFrameworks : Pytorch, Tensorflow, Flask, Pytorch Lightning\\nTools/Platform : Tableau, Power Bi, Azure, Git, Jupyter, Docker\\nLibraries : Scikit-Learn, Pandas, Numpy, Matplotlib, Seaborn\\nCertifications\\n•Certified Associate Data Analyst\\n•SQL [Advanced] - Hackerank\\n•Management Consulting Mentorship\\n•Generative AI at SAP•ML for Business professionals using No-Code AI tools\\n•Python [Basic] - Hackerank\\n•Software Engineer Intern -Hackerank\\nPublications\\nSuspicious Event Detection of Cargo Vessels Based on AIS Data at ICDMAI,2023', metadata={'source': 'data\\\\resume.pdf', 'page': 0}),\n",
       " Document(page_content='•Engineered a path prediction algorithm using a sequence-to-sequence model with an attention mechanism.\\nFederated Learning on Multiclass classification |Python, Deep Learning, Jupyter Notebook June 2022 - July 2022\\n•Utilized the CIFAR dataset for training, involving 20 client nodes with training activities based on the VGG-19 model.\\n•Central global model collected weight updates from six randomly selected client models, averaging the contributions, and\\ndisseminated the updated global model to all participating clients.\\n•Effected a commendable accuracy rate of 78% upon successful completion of the training process, demonstrating the effectiveness\\nof the federated learning approach in preserving data security and privacy while maintaining model performance.\\nEducation\\nDefence Institute of Advanced Technology Pune, IN\\nM.Tech in Modelling and Simulation, GPA: 7.95 May 2023\\nNational Institute of Technology Tiruchirappalli, IN\\nB.Tech in Chemical Engineering, GPA: 7.65 May 2021', metadata={'source': 'data\\\\resume.pdf', 'page': 0}),\n",
       " Document(page_content='Hate Speech Prediction /github |Python, Pytorch Lightning, Flask, Docker October 2023\\n•Developed a robust hate speech detection algorithm for content filtration.\\n•Attained 91.95% accuracy with fine-tuned pre-existing Bert model.\\n•Executed model deployment via Flask and Docker for scalability.\\nMachine Failure Prediction /github |Azure Machine Learning September 2023\\n•Conducted an extensive investigation of a Milling machine to enhance operational reliability.\\n•Conceived 97% recall rate for predicting machine failures using logistic regression and SMOTE.\\n•Managed in Azure Designer for comprehensive data analysis and predictive modeling.\\nData Driven Model for Anomaly Detection and Path Prediction |Python, Deep Learning July 2022 - April 2023\\n•Investigated and improved AIS for cargo vessel anomaly detection and path prediction.\\n•Formulated a statistical method for robust anomaly detection.', metadata={'source': 'data\\\\resume.pdf', 'page': 0})]"
      ]
     },
     "execution_count": 311,
     "metadata": {},
     "output_type": "execute_result"
    }
   ],
   "source": [
    "final"
   ]
  },
  {
   "cell_type": "code",
   "execution_count": 312,
   "metadata": {},
   "outputs": [],
   "source": [
    "def pretty_print_docs(docs):\n",
    "    print(\n",
    "        f\"\\n{'-' * 100}\\n\".join(\n",
    "            [f\"Document {i+1}:\\n\\n\" + d.page_content for i, d in enumerate(docs)]\n",
    "        )\n",
    "    )"
   ]
  },
  {
   "cell_type": "code",
   "execution_count": 313,
   "metadata": {},
   "outputs": [
    {
     "name": "stderr",
     "output_type": "stream",
     "text": [
      "c:\\Users\\shyams\\Downloads\\RAG\\.venv\\Lib\\site-packages\\huggingface_hub\\file_download.py:1132: FutureWarning: `resume_download` is deprecated and will be removed in version 1.0.0. Downloads always resume when possible. If you want to force a new download, use `force_download=True`.\n",
      "  warnings.warn(\n"
     ]
    },
    {
     "name": "stdout",
     "output_type": "stream",
     "text": [
      "Document 1:\n",
      "\n",
      "Shyam Sundar\n",
      "5,kavimani steet, Pankajam colony, 3rd cross street, Madurai, India - 625009\n",
      "♂phone+91-9080765574 /envel⌢pemailshyamsundar.2022@gmail.com /linkedinshyamsundar007 /githubShyam-Sundar-7♂laptopPortfolio\n",
      "Projects\n",
      "LLM-Powered Coupon Recommender /github/video |Python, Streamlit, Langchain, OpenAI November 2023\n",
      "•Developed a QA system for e-commerce with personalized coupon recommendations using OpenAI’s LLMs.\n",
      "•Streamlined user interactions through a Streamlit interface and Langchain for real-world scenario simulations.\n",
      "•Incorporated FAISS for refined recommendation processes.\n",
      "PeopleCare Insurance Prediction /github |Python, Jupyter, Azure Cloud, Flask, Docker October 2023\n",
      "•Expanded PeopleCare into vehicle insurance with a predictive model for effective customer targeting.\n",
      "•Thorough analysis of customer behavior and data cleaning for accurate predictive modeling.\n",
      "•Achieved 80% prediction accuracy using LightGBM.\n",
      "----------------------------------------------------------------------------------------------------\n",
      "Document 2:\n",
      "\n",
      "Relevant Coursework\n",
      "•Data Structures\n",
      "•Advanced Numerical Techniques•Machine Learning\n",
      "•Data Science•Deep Learning\n",
      "•Computer Graphics\n",
      "Technical Skills\n",
      "Languages : Python, C/C++, SQL (Postgres), Matlab, Latex\n",
      "Frameworks : Pytorch, Tensorflow, Flask, Pytorch Lightning\n",
      "Tools/Platform : Tableau, Power Bi, Azure, Git, Jupyter, Docker\n",
      "Libraries : Scikit-Learn, Pandas, Numpy, Matplotlib, Seaborn\n",
      "Certifications\n",
      "•Certified Associate Data Analyst\n",
      "•SQL [Advanced] - Hackerank\n",
      "•Management Consulting Mentorship\n",
      "•Generative AI at SAP•ML for Business professionals using No-Code AI tools\n",
      "•Python [Basic] - Hackerank\n",
      "•Software Engineer Intern -Hackerank\n",
      "Publications\n",
      "Suspicious Event Detection of Cargo Vessels Based on AIS Data at ICDMAI,2023\n",
      "----------------------------------------------------------------------------------------------------\n",
      "Document 3:\n",
      "\n",
      "•Engineered a path prediction algorithm using a sequence-to-sequence model with an attention mechanism.\n",
      "Federated Learning on Multiclass classification |Python, Deep Learning, Jupyter Notebook June 2022 - July 2022\n",
      "•Utilized the CIFAR dataset for training, involving 20 client nodes with training activities based on the VGG-19 model.\n",
      "•Central global model collected weight updates from six randomly selected client models, averaging the contributions, and\n",
      "disseminated the updated global model to all participating clients.\n",
      "•Effected a commendable accuracy rate of 78% upon successful completion of the training process, demonstrating the effectiveness\n",
      "of the federated learning approach in preserving data security and privacy while maintaining model performance.\n",
      "Education\n",
      "Defence Institute of Advanced Technology Pune, IN\n",
      "M.Tech in Modelling and Simulation, GPA: 7.95 May 2023\n",
      "National Institute of Technology Tiruchirappalli, IN\n",
      "B.Tech in Chemical Engineering, GPA: 7.65 May 2021\n"
     ]
    }
   ],
   "source": [
    "from langchain.retrievers import ContextualCompressionRetriever\n",
    "from langchain.retrievers.document_compressors import CrossEncoderReranker\n",
    "from langchain_community.cross_encoders import HuggingFaceCrossEncoder\n",
    "\n",
    "model = HuggingFaceCrossEncoder(model_name=\"cross-encoder/ms-marco-MiniLM-L-6-v2\")\n",
    "compressor = CrossEncoderReranker(model=model, top_n=3)\n",
    "compression_retriever = ContextualCompressionRetriever(\n",
    "    base_compressor=compressor, base_retriever=ensemble_retriever\n",
    ")\n",
    "\n",
    "compressed_docs = compression_retriever.invoke(Query)\n",
    "pretty_print_docs(compressed_docs)"
   ]
  },
  {
   "cell_type": "code",
   "execution_count": 321,
   "metadata": {},
   "outputs": [],
   "source": [
    "final_prompt=\"\"\"You are an assistant for question-answering tasks. Use the following pieces of retrieved context to answer the question. If you don't know the answer, just say that you don't know. Use three sentences maximum and keep the answer concise.\n",
    "Question: {question} \n",
    "Context: {context} \n",
    "Answer:\"\"\"\n",
    "\n",
    "final_prompt_perspectives=ChatPromptTemplate.from_template(final_prompt)"
   ]
  },
  {
   "cell_type": "code",
   "execution_count": 322,
   "metadata": {},
   "outputs": [],
   "source": [
    "llm_chain = final_prompt_perspectives | ChatOpenAI(temperature=0) | StrOutputParser()"
   ]
  },
  {
   "cell_type": "code",
   "execution_count": 324,
   "metadata": {},
   "outputs": [
    {
     "data": {
      "text/plain": [
       "'Shyam has a B.Tech in Chemical Engineering from the National Institute of Technology Tiruchirappalli with a GPA of 7.65 in May 2021 and an M.Tech in Modelling and Simulation from the Defence Institute of Advanced Technology Pune with a GPA of 7.95 in May 2023.'"
      ]
     },
     "execution_count": 324,
     "metadata": {},
     "output_type": "execute_result"
    }
   ],
   "source": [
    "llm_chain.invoke({\"question\":Query, \"context\":compressed_docs})"
   ]
  },
  {
   "cell_type": "code",
   "execution_count": null,
   "metadata": {},
   "outputs": [],
   "source": []
  }
 ],
 "metadata": {
  "kernelspec": {
   "display_name": ".venv",
   "language": "python",
   "name": "python3"
  },
  "language_info": {
   "codemirror_mode": {
    "name": "ipython",
    "version": 3
   },
   "file_extension": ".py",
   "mimetype": "text/x-python",
   "name": "python",
   "nbconvert_exporter": "python",
   "pygments_lexer": "ipython3",
   "version": "3.12.3"
  }
 },
 "nbformat": 4,
 "nbformat_minor": 2
}
